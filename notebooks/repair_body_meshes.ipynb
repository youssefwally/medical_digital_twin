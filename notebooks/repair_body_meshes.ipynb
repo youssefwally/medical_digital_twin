{
 "cells": [
  {
   "attachments": {},
   "cell_type": "markdown",
   "metadata": {},
   "source": [
    "# Imports"
   ]
  },
  {
   "cell_type": "code",
   "execution_count": 6,
   "metadata": {},
   "outputs": [],
   "source": [
    "import os\n",
    "import numpy as np\n",
    "\n",
    "import open3d as o3d"
   ]
  },
  {
   "cell_type": "code",
   "execution_count": 34,
   "metadata": {},
   "outputs": [
    {
     "name": "stdout",
     "output_type": "stream",
     "text": [
      "0.011696\n",
      "0.987518\n"
     ]
    }
   ],
   "source": [
    "mesh = o3d.io.read_triangle_mesh(\"../../local_data/unbiased_mesh_atlas/body/female/avg/body.ply\")\n",
    "vertices = np.asarray(mesh.vertices)\n",
    "# o3d.visualization.draw_geometries([mesh], mesh_show_wireframe=True, mesh_show_back_face=True)\n",
    "\n",
    "new_vertices = []\n",
    "for vertex in vertices:\n",
    "    vertex = np.add(vertex,[0,0,3])\n",
    "    new_vertices.append(vertex)\n",
    "\n",
    "min_z = vertices[:, 2].min()\n",
    "max_z = vertices[:, 2].max()\n",
    "print(min_z)\n",
    "print(max_z)\n",
    "\n",
    "# mesh.vertices = o3d.utility.Vector3dVector(np.asarray(new_vertices))\n",
    "# o3d.visualization.draw_geometries([mesh], mesh_show_wireframe=True, mesh_show_back_face=True)"
   ]
  },
  {
   "cell_type": "code",
   "execution_count": 29,
   "metadata": {},
   "outputs": [
    {
     "data": {
      "text/plain": [
       "3.06234538676111"
      ]
     },
     "execution_count": 29,
     "metadata": {},
     "output_type": "execute_result"
    }
   ],
   "source": [
    "x = (3 - min_z) / (max_z - min_z)\n",
    "x"
   ]
  },
  {
   "cell_type": "code",
   "execution_count": 44,
   "metadata": {},
   "outputs": [
    {
     "name": "stdout",
     "output_type": "stream",
     "text": [
      "[-0.41416   0.264352  0.607409]\n",
      "[-0.41416   0.264352  1.822227]\n",
      "0.035088\n",
      "2.962554\n",
      "[-0.41416   0.264352  1.822227]\n"
     ]
    }
   ],
   "source": [
    "mesh = o3d.io.read_triangle_mesh(\"../../local_data/unbiased_mesh_atlas/body/female/avg/body.ply\")\n",
    "o3d.visualization.draw_geometries([mesh], mesh_show_wireframe=True, mesh_show_back_face=True)\n",
    "# Define the scaling factor for the z-direction\n",
    "z_scaling_factor = 3\n",
    "\n",
    "# Modify the z-coordinates of the mesh vertices\n",
    "vertices = np.asarray(mesh.vertices)\n",
    "print(vertices[0])\n",
    "vertices[:, 2] *= z_scaling_factor\n",
    "print(vertices[0])\n",
    "\n",
    "min_z = vertices[:, 2].min()\n",
    "max_z = vertices[:, 2].max()\n",
    "print(min_z)\n",
    "print(max_z)\n",
    "\n",
    "#normalise values\n",
    "# z_values = vertices[:, 2]\n",
    "# normalized_z_values = (z_values - min_z) / (max_z - min_z)\n",
    "# vertices[:, 2] = normalized_z_values\n",
    "\n",
    "mesh.vertices = o3d.utility.Vector3dVector(vertices)\n",
    "\n",
    "print(vertices[0])\n",
    "\n",
    "# Visualize the stretched mesh\n",
    "o3d.visualization.draw_geometries([mesh], mesh_show_wireframe=True, mesh_show_back_face=True)"
   ]
  },
  {
   "cell_type": "code",
   "execution_count": null,
   "metadata": {},
   "outputs": [],
   "source": []
  }
 ],
 "metadata": {
  "kernelspec": {
   "display_name": "local_digital_twin_env",
   "language": "python",
   "name": "python3"
  },
  "language_info": {
   "codemirror_mode": {
    "name": "ipython",
    "version": 3
   },
   "file_extension": ".py",
   "mimetype": "text/x-python",
   "name": "python",
   "nbconvert_exporter": "python",
   "pygments_lexer": "ipython3",
   "version": "3.8.15"
  },
  "orig_nbformat": 4
 },
 "nbformat": 4,
 "nbformat_minor": 2
}
