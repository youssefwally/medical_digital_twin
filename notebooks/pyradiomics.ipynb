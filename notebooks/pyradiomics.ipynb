{
 "cells": [
  {
   "cell_type": "markdown",
   "metadata": {},
   "source": [
    "# Imports"
   ]
  },
  {
   "cell_type": "code",
   "execution_count": 1,
   "metadata": {},
   "outputs": [],
   "source": [
    "import os\n",
    "\n",
    "import numpy as np\n",
    "import nibabel as nib\n",
    "from radiomics import featureextractor"
   ]
  },
  {
   "cell_type": "markdown",
   "metadata": {},
   "source": [
    "# Organs PyRadiomics"
   ]
  },
  {
   "cell_type": "code",
   "execution_count": 5,
   "metadata": {},
   "outputs": [
    {
     "name": "stdout",
     "output_type": "stream",
     "text": [
      "[ 0.47384926  0.35020003 37.11586215 ...  0.          0.\n",
      "  0.        ]\n"
     ]
    }
   ],
   "source": [
    "path = \"../../../../../vol/aimspace/projects/ukbb/abdominal/abdominal_segmentations/features/radiomics_features_all_enhanced/4171522/lkd.npz\"\n",
    "data = np.load(path)\n",
    "lst = data.files\n",
    "for item in lst:\n",
    "    data = data[item]\n",
    "    # print(data[item].flatten())\n",
    "\n",
    "print(data)"
   ]
  },
  {
   "cell_type": "code",
   "execution_count": 3,
   "metadata": {},
   "outputs": [
    {
     "data": {
      "text/plain": [
       "'liv.npz'"
      ]
     },
     "execution_count": 3,
     "metadata": {},
     "output_type": "execute_result"
    }
   ],
   "source": [
    "radiomics_organs = {\"liver\": \"liv.npz\", \"pancreas\": \"pnc.npz\", \"spleen\": \"spl.npz\", \"left_kidney\": \"lkd.npz\", \"right_kidney\" : \"rkd.npz\"}\n",
    "radiomics_organs[\"liver\"]"
   ]
  },
  {
   "cell_type": "markdown",
   "metadata": {},
   "source": [
    "# Body Pyradiomics"
   ]
  },
  {
   "cell_type": "code",
   "execution_count": 8,
   "metadata": {},
   "outputs": [
    {
     "name": "stdout",
     "output_type": "stream",
     "text": [
      "Enabled features:\n",
      "\t {'firstorder': [], 'glcm': [], 'gldm': [], 'glrlm': [], 'glszm': [], 'ngtdm': [], 'shape': []}\n"
     ]
    },
    {
     "name": "stderr",
     "output_type": "stream",
     "text": [
      "GLCM is symmetrical, therefore Sum Average = 2 * Joint Average, only 1 needs to be calculated\n"
     ]
    }
   ],
   "source": [
    "# Instantiate the extractor\n",
    "extractor = featureextractor.RadiomicsFeatureExtractor()\n",
    "\n",
    "print (\"Enabled features:\\n\\t\", extractor.enabledFeatures)\n",
    "\n",
    "data_path = \"../../../../../../vol/aimspace/projects/ukbb/abdominal/nifti/5726505/wat.nii.gz\"\n",
    "mask_path = \"../../../../../../vol/aimspace/projects/ukbb/abdominal/body_mask/5726505/body_mask.nii.gz\"\n",
    "\n",
    "result = extractor.execute(data_path, mask_path)"
   ]
  },
  {
   "cell_type": "code",
   "execution_count": 27,
   "metadata": {},
   "outputs": [
    {
     "name": "stdout",
     "output_type": "stream",
     "text": [
      "[OrderedDict([('diagnostics_Versions_PyRadiomics', 'v3.1.0'), ('diagnostics_Versions_Numpy', '1.23.4'), ('diagnostics_Versions_SimpleITK', '2.2.1'), ('diagnostics_Versions_PyWavelet', '1.4.1'), ('diagnostics_Versions_Python', '3.8.15'), ('diagnostics_Configuration_Settings', {'minimumROIDimensions': 2, 'minimumROISize': None, 'normalize': False, 'normalizeScale': 1, 'removeOutliers': None, 'resampledPixelSpacing': None, 'interpolator': 'sitkBSpline', 'preCrop': False, 'padDistance': 5, 'distances': [1], 'force2D': False, 'force2Ddimension': 0, 'resegmentRange': None, 'label': 1, 'additionalInfo': True}), ('diagnostics_Configuration_EnabledImageTypes', {'Original': {}}), ('diagnostics_Image-original_Hash', 'c3d3ee17ad446e5d5683cccb50fae55207e00273'), ('diagnostics_Image-original_Dimensionality', '3D'), ('diagnostics_Image-original_Spacing', (2.232142925262451, 2.232142925262451, 3.0)), ('diagnostics_Image-original_Size', (224, 168, 363)), ('diagnostics_Image-original_Mean', 68.17340670667106), ('diagnostics_Image-original_Minimum', 0.0), ('diagnostics_Image-original_Maximum', 1180.0), ('diagnostics_Mask-original_Hash', 'b6d2a74d5515399107f327b4cde5d48c1e5e36e4'), ('diagnostics_Mask-original_Spacing', (2.232142925262451, 2.232142925262451, 3.0)), ('diagnostics_Mask-original_Size', (224, 168, 363)), ('diagnostics_Mask-original_BoundingBox', (2, 20, 0, 221, 107, 363)), ('diagnostics_Mask-original_VoxelNum', 3628886), ('diagnostics_Mask-original_VolumeNum', 1), ('diagnostics_Mask-original_CenterOfMassIndex', (112.27780922299571, 66.29832516094471, 213.84266052998083)), ('diagnostics_Mask-original_CenterOfMass', (0.6201175210770771, 37.28053057723989, -388.97201841005744)), ('original_shape_Elongation', 0.362479789360232), ('original_shape_Flatness', 0.17717072486378124), ('original_shape_LeastAxisLength', 199.27093183993904), ('original_shape_MajorAxisLength', 1124.7396091716037), ('original_shape_Maximum2DDiameterColumn', array(1143.31718966)), ('original_shape_Maximum2DDiameterRow', array(1094.04170791)), ('original_shape_Maximum2DDiameterSlice', array(492.89941314)), ('original_shape_Maximum3DDiameter', array(1147.72325247)), ('original_shape_MeshVolume', array(54173837.65958741)), ('original_shape_MinorAxisLength', 407.6953766176326), ('original_shape_Sphericity', array(0.50382304)), ('original_shape_SurfaceArea', array(1374250.27341726)), ('original_shape_SurfaceVolumeRatio', array(0.02536742)), ('original_shape_VoxelVolume', 54242360.21438976), ('original_firstorder_10Percentile', array(34.33332062)), ('original_firstorder_90Percentile', array(404.5)), ('original_firstorder_Energy', array(2.59357973e+11)), ('original_firstorder_Entropy', array(4.30309476)), ('original_firstorder_InterquartileRange', array(247.16667175)), ('original_firstorder_Kurtosis', array(2.13576466)), ('original_firstorder_Maximum', array(1180.)), ('original_firstorder_MeanAbsoluteDeviation', array(123.29824632)), ('original_firstorder_Mean', array(226.7996876)), ('original_firstorder_Median', array(236.42848969)), ('original_firstorder_Minimum', array(0.)), ('original_firstorder_Range', array(1180.)), ('original_firstorder_RobustMeanAbsoluteDeviation', array(99.65551456)), ('original_firstorder_RootMeanSquared', array(267.3395049)), ('original_firstorder_Skewness', array(0.1214142)), ('original_firstorder_TotalEnergy', array(3.87672377e+12)), ('original_firstorder_Uniformity', array(0.05467324)), ('original_firstorder_Variance', array(20032.31258695)), ('original_glcm_Autocorrelation', array(121.24130491)), ('original_glcm_ClusterProminence', array(31312.49624452)), ('original_glcm_ClusterShade', array(132.18580979)), ('original_glcm_ClusterTendency', array(121.1792916)), ('original_glcm_Contrast', array(7.92496358)), ('original_glcm_Correlation', array(0.87728405)), ('original_glcm_DifferenceAverage', array(1.79491288)), ('original_glcm_DifferenceEntropy', array(2.57185975)), ('original_glcm_DifferenceVariance', array(4.59076455)), ('original_glcm_Id', array(0.54493315)), ('original_glcm_Idm', array(0.49340764)), ('original_glcm_Idmn', array(0.99664621)), ('original_glcm_Idn', array(0.96563459)), ('original_glcm_Imc1', array(-0.2829533)), ('original_glcm_Imc2', array(0.94990063)), ('original_glcm_InverseVariance', array(0.37250536)), ('original_glcm_JointAverage', array(9.63989219)), ('original_glcm_JointEnergy', array(0.01027045)), ('original_glcm_JointEntropy', array(7.38797133)), ('original_glcm_MCC', array(0.87881867)), ('original_glcm_MaximumProbability', array(0.03897772)), ('original_glcm_SumAverage', array(19.27978437)), ('original_glcm_SumEntropy', array(5.26317335)), ('original_glcm_SumSquares', array(32.2760638)), ('original_gldm_DependenceEntropy', array(8.3681688)), ('original_gldm_DependenceNonUniformity', array(224542.48302316)), ('original_gldm_DependenceNonUniformityNormalized', array(0.06187642)), ('original_gldm_DependenceVariance', array(34.62504418)), ('original_gldm_GrayLevelNonUniformity', array(198402.97282802)), ('original_gldm_GrayLevelVariance', array(32.08406301)), ('original_gldm_HighGrayLevelEmphasis', array(123.85476149)), ('original_gldm_LargeDependenceEmphasis', array(104.92354127)), ('original_gldm_LargeDependenceHighGrayLevelEmphasis', array(14048.89827402)), ('original_gldm_LargeDependenceLowGrayLevelEmphasis', array(23.19407374)), ('original_gldm_LowGrayLevelEmphasis', array(0.10709267)), ('original_gldm_SmallDependenceEmphasis', array(0.08242963)), ('original_gldm_SmallDependenceHighGrayLevelEmphasis', array(9.83620859)), ('original_gldm_SmallDependenceLowGrayLevelEmphasis', array(0.00359974)), ('original_glrlm_GrayLevelNonUniformity', array(139041.6250989)), ('original_glrlm_GrayLevelNonUniformityNormalized', array(0.05351888)), ('original_glrlm_GrayLevelVariance', array(29.78280869)), ('original_glrlm_HighGrayLevelRunEmphasis', array(121.09243205)), ('original_glrlm_LongRunEmphasis', array(3.12657814)), ('original_glrlm_LongRunHighGrayLevelEmphasis', array(390.15907889)), ('original_glrlm_LongRunLowGrayLevelEmphasis', array(0.58424007)), ('original_glrlm_LowGrayLevelRunEmphasis', array(0.08118363)), ('original_glrlm_RunEntropy', array(5.43610545)), ('original_glrlm_RunLengthNonUniformity', array(1628467.78874394)), ('original_glrlm_RunLengthNonUniformityNormalized', array(0.62366112)), ('original_glrlm_RunPercentage', array(0.71598385)), ('original_glrlm_RunVariance', array(1.14437252)), ('original_glrlm_ShortRunEmphasis', array(0.8166555)), ('original_glrlm_ShortRunHighGrayLevelEmphasis', array(97.25020835)), ('original_glrlm_ShortRunLowGrayLevelEmphasis', array(0.05722391)), ('original_glszm_GrayLevelNonUniformity', array(15859.46495196)), ('original_glszm_GrayLevelNonUniformityNormalized', array(0.06211579)), ('original_glszm_GrayLevelVariance', array(24.28219605)), ('original_glszm_HighGrayLevelZoneEmphasis', array(123.44485569)), ('original_glszm_LargeAreaEmphasis', array(972536.38528754)), ('original_glszm_LargeAreaHighGrayLevelEmphasis', array(1.16126132e+08)), ('original_glszm_LargeAreaLowGrayLevelEmphasis', array(82798.81215792)), ('original_glszm_LowGrayLevelZoneEmphasis', array(0.03668501)), ('original_glszm_SizeZoneNonUniformity', array(74079.66129304)), ('original_glszm_SizeZoneNonUniformityNormalized', array(0.29014324)), ('original_glszm_SmallAreaEmphasis', array(0.55484538)), ('original_glszm_SmallAreaHighGrayLevelEmphasis', array(67.73554772)), ('original_glszm_SmallAreaLowGrayLevelEmphasis', array(0.01873215)), ('original_glszm_ZoneEntropy', array(6.99967291)), ('original_glszm_ZonePercentage', array(0.07035796)), ('original_glszm_ZoneVariance', array(972334.37495806)), ('original_ngtdm_Busyness', array(324.47265662)), ('original_ngtdm_Coarseness', array(5.05164899e-06)), ('original_ngtdm_Complexity', array(1426.25597794)), ('original_ngtdm_Contrast', array(0.03201536)), ('original_ngtdm_Strength', array(0.00995059))])]\n"
     ]
    }
   ],
   "source": [
    "# np.savez(\"./test.npz\", result)\n",
    "# data = np.load(\"./test.npz\", allow_pickle=True)\n",
    "# lst = data.files\n",
    "# for item in lst:\n",
    "#     print(data[item].flatten())"
   ]
  },
  {
   "cell_type": "code",
   "execution_count": 5,
   "metadata": {},
   "outputs": [
    {
     "data": {
      "text/plain": [
       "OrderedDict([('diagnostics_Versions_PyRadiomics', 'v3.1.0'),\n",
       "             ('diagnostics_Versions_Numpy', '1.23.4'),\n",
       "             ('diagnostics_Versions_SimpleITK', '2.2.1'),\n",
       "             ('diagnostics_Versions_PyWavelet', '1.4.1'),\n",
       "             ('diagnostics_Versions_Python', '3.8.15'),\n",
       "             ('diagnostics_Configuration_Settings',\n",
       "              {'minimumROIDimensions': 2,\n",
       "               'minimumROISize': None,\n",
       "               'normalize': False,\n",
       "               'normalizeScale': 1,\n",
       "               'removeOutliers': None,\n",
       "               'resampledPixelSpacing': None,\n",
       "               'interpolator': 'sitkBSpline',\n",
       "               'preCrop': False,\n",
       "               'padDistance': 5,\n",
       "               'distances': [1],\n",
       "               'force2D': False,\n",
       "               'force2Ddimension': 0,\n",
       "               'resegmentRange': None,\n",
       "               'label': 1,\n",
       "               'additionalInfo': True}),\n",
       "             ('diagnostics_Configuration_EnabledImageTypes', {'Original': {}}),\n",
       "             ('diagnostics_Image-original_Hash',\n",
       "              'c3d3ee17ad446e5d5683cccb50fae55207e00273'),\n",
       "             ('diagnostics_Image-original_Dimensionality', '3D'),\n",
       "             ('diagnostics_Image-original_Spacing',\n",
       "              (2.232142925262451, 2.232142925262451, 3.0)),\n",
       "             ('diagnostics_Image-original_Size', (224, 168, 363)),\n",
       "             ('diagnostics_Image-original_Mean', 68.17340670667106),\n",
       "             ('diagnostics_Image-original_Minimum', 0.0),\n",
       "             ('diagnostics_Image-original_Maximum', 1180.0),\n",
       "             ('diagnostics_Mask-original_Hash',\n",
       "              'b6d2a74d5515399107f327b4cde5d48c1e5e36e4'),\n",
       "             ('diagnostics_Mask-original_Spacing',\n",
       "              (2.232142925262451, 2.232142925262451, 3.0)),\n",
       "             ('diagnostics_Mask-original_Size', (224, 168, 363)),\n",
       "             ('diagnostics_Mask-original_BoundingBox',\n",
       "              (2, 20, 0, 221, 107, 363)),\n",
       "             ('diagnostics_Mask-original_VoxelNum', 3628886),\n",
       "             ('diagnostics_Mask-original_VolumeNum', 1),\n",
       "             ('diagnostics_Mask-original_CenterOfMassIndex',\n",
       "              (112.27780922299571, 66.29832516094471, 213.84266052998083)),\n",
       "             ('diagnostics_Mask-original_CenterOfMass',\n",
       "              (0.6201175210770771, 37.28053057723989, -388.97201841005744)),\n",
       "             ('original_shape_Elongation', 0.362479789360232),\n",
       "             ('original_shape_Flatness', 0.17717072486378124),\n",
       "             ('original_shape_LeastAxisLength', 199.27093183993904),\n",
       "             ('original_shape_MajorAxisLength', 1124.7396091716037),\n",
       "             ('original_shape_Maximum2DDiameterColumn', array(1143.31718966)),\n",
       "             ('original_shape_Maximum2DDiameterRow', array(1094.04170791)),\n",
       "             ('original_shape_Maximum2DDiameterSlice', array(492.89941314)),\n",
       "             ('original_shape_Maximum3DDiameter', array(1147.72325247)),\n",
       "             ('original_shape_MeshVolume', array(54173837.65958741)),\n",
       "             ('original_shape_MinorAxisLength', 407.6953766176326),\n",
       "             ('original_shape_Sphericity', array(0.50382304)),\n",
       "             ('original_shape_SurfaceArea', array(1374250.27341726)),\n",
       "             ('original_shape_SurfaceVolumeRatio', array(0.02536742)),\n",
       "             ('original_shape_VoxelVolume', 54242360.21438976),\n",
       "             ('original_firstorder_10Percentile', array(34.33332062)),\n",
       "             ('original_firstorder_90Percentile', array(404.5)),\n",
       "             ('original_firstorder_Energy', array(2.59357973e+11)),\n",
       "             ('original_firstorder_Entropy', array(4.30309476)),\n",
       "             ('original_firstorder_InterquartileRange', array(247.16667175)),\n",
       "             ('original_firstorder_Kurtosis', array(2.13576466)),\n",
       "             ('original_firstorder_Maximum', array(1180.)),\n",
       "             ('original_firstorder_MeanAbsoluteDeviation',\n",
       "              array(123.29824632)),\n",
       "             ('original_firstorder_Mean', array(226.7996876)),\n",
       "             ('original_firstorder_Median', array(236.42848969)),\n",
       "             ('original_firstorder_Minimum', array(0.)),\n",
       "             ('original_firstorder_Range', array(1180.)),\n",
       "             ('original_firstorder_RobustMeanAbsoluteDeviation',\n",
       "              array(99.65551456)),\n",
       "             ('original_firstorder_RootMeanSquared', array(267.3395049)),\n",
       "             ('original_firstorder_Skewness', array(0.1214142)),\n",
       "             ('original_firstorder_TotalEnergy', array(3.87672377e+12)),\n",
       "             ('original_firstorder_Uniformity', array(0.05467324)),\n",
       "             ('original_firstorder_Variance', array(20032.31258695)),\n",
       "             ('original_glcm_Autocorrelation', array(121.24130491)),\n",
       "             ('original_glcm_ClusterProminence', array(31312.49624452)),\n",
       "             ('original_glcm_ClusterShade', array(132.18580979)),\n",
       "             ('original_glcm_ClusterTendency', array(121.1792916)),\n",
       "             ('original_glcm_Contrast', array(7.92496358)),\n",
       "             ('original_glcm_Correlation', array(0.87728405)),\n",
       "             ('original_glcm_DifferenceAverage', array(1.79491288)),\n",
       "             ('original_glcm_DifferenceEntropy', array(2.57185975)),\n",
       "             ('original_glcm_DifferenceVariance', array(4.59076455)),\n",
       "             ('original_glcm_Id', array(0.54493315)),\n",
       "             ('original_glcm_Idm', array(0.49340764)),\n",
       "             ('original_glcm_Idmn', array(0.99664621)),\n",
       "             ('original_glcm_Idn', array(0.96563459)),\n",
       "             ('original_glcm_Imc1', array(-0.2829533)),\n",
       "             ('original_glcm_Imc2', array(0.94990063)),\n",
       "             ('original_glcm_InverseVariance', array(0.37250536)),\n",
       "             ('original_glcm_JointAverage', array(9.63989219)),\n",
       "             ('original_glcm_JointEnergy', array(0.01027045)),\n",
       "             ('original_glcm_JointEntropy', array(7.38797133)),\n",
       "             ('original_glcm_MCC', array(0.87881867)),\n",
       "             ('original_glcm_MaximumProbability', array(0.03897772)),\n",
       "             ('original_glcm_SumAverage', array(19.27978437)),\n",
       "             ('original_glcm_SumEntropy', array(5.26317335)),\n",
       "             ('original_glcm_SumSquares', array(32.2760638)),\n",
       "             ('original_gldm_DependenceEntropy', array(8.3681688)),\n",
       "             ('original_gldm_DependenceNonUniformity', array(224542.48302316)),\n",
       "             ('original_gldm_DependenceNonUniformityNormalized',\n",
       "              array(0.06187642)),\n",
       "             ('original_gldm_DependenceVariance', array(34.62504418)),\n",
       "             ('original_gldm_GrayLevelNonUniformity', array(198402.97282802)),\n",
       "             ('original_gldm_GrayLevelVariance', array(32.08406301)),\n",
       "             ('original_gldm_HighGrayLevelEmphasis', array(123.85476149)),\n",
       "             ('original_gldm_LargeDependenceEmphasis', array(104.92354127)),\n",
       "             ('original_gldm_LargeDependenceHighGrayLevelEmphasis',\n",
       "              array(14048.89827402)),\n",
       "             ('original_gldm_LargeDependenceLowGrayLevelEmphasis',\n",
       "              array(23.19407374)),\n",
       "             ('original_gldm_LowGrayLevelEmphasis', array(0.10709267)),\n",
       "             ('original_gldm_SmallDependenceEmphasis', array(0.08242963)),\n",
       "             ('original_gldm_SmallDependenceHighGrayLevelEmphasis',\n",
       "              array(9.83620859)),\n",
       "             ('original_gldm_SmallDependenceLowGrayLevelEmphasis',\n",
       "              array(0.00359974)),\n",
       "             ('original_glrlm_GrayLevelNonUniformity', array(139041.6250989)),\n",
       "             ('original_glrlm_GrayLevelNonUniformityNormalized',\n",
       "              array(0.05351888)),\n",
       "             ('original_glrlm_GrayLevelVariance', array(29.78280869)),\n",
       "             ('original_glrlm_HighGrayLevelRunEmphasis', array(121.09243205)),\n",
       "             ('original_glrlm_LongRunEmphasis', array(3.12657814)),\n",
       "             ('original_glrlm_LongRunHighGrayLevelEmphasis',\n",
       "              array(390.15907889)),\n",
       "             ('original_glrlm_LongRunLowGrayLevelEmphasis', array(0.58424007)),\n",
       "             ('original_glrlm_LowGrayLevelRunEmphasis', array(0.08118363)),\n",
       "             ('original_glrlm_RunEntropy', array(5.43610545)),\n",
       "             ('original_glrlm_RunLengthNonUniformity',\n",
       "              array(1628467.78874394)),\n",
       "             ('original_glrlm_RunLengthNonUniformityNormalized',\n",
       "              array(0.62366112)),\n",
       "             ('original_glrlm_RunPercentage', array(0.71598385)),\n",
       "             ('original_glrlm_RunVariance', array(1.14437252)),\n",
       "             ('original_glrlm_ShortRunEmphasis', array(0.8166555)),\n",
       "             ('original_glrlm_ShortRunHighGrayLevelEmphasis',\n",
       "              array(97.25020835)),\n",
       "             ('original_glrlm_ShortRunLowGrayLevelEmphasis',\n",
       "              array(0.05722391)),\n",
       "             ('original_glszm_GrayLevelNonUniformity', array(15859.46495196)),\n",
       "             ('original_glszm_GrayLevelNonUniformityNormalized',\n",
       "              array(0.06211579)),\n",
       "             ('original_glszm_GrayLevelVariance', array(24.28219605)),\n",
       "             ('original_glszm_HighGrayLevelZoneEmphasis', array(123.44485569)),\n",
       "             ('original_glszm_LargeAreaEmphasis', array(972536.38528754)),\n",
       "             ('original_glszm_LargeAreaHighGrayLevelEmphasis',\n",
       "              array(1.16126132e+08)),\n",
       "             ('original_glszm_LargeAreaLowGrayLevelEmphasis',\n",
       "              array(82798.81215792)),\n",
       "             ('original_glszm_LowGrayLevelZoneEmphasis', array(0.03668501)),\n",
       "             ('original_glszm_SizeZoneNonUniformity', array(74079.66129304)),\n",
       "             ('original_glszm_SizeZoneNonUniformityNormalized',\n",
       "              array(0.29014324)),\n",
       "             ('original_glszm_SmallAreaEmphasis', array(0.55484538)),\n",
       "             ('original_glszm_SmallAreaHighGrayLevelEmphasis',\n",
       "              array(67.73554772)),\n",
       "             ('original_glszm_SmallAreaLowGrayLevelEmphasis',\n",
       "              array(0.01873215)),\n",
       "             ('original_glszm_ZoneEntropy', array(6.99967291)),\n",
       "             ('original_glszm_ZonePercentage', array(0.07035796)),\n",
       "             ('original_glszm_ZoneVariance', array(972334.37495806)),\n",
       "             ('original_ngtdm_Busyness', array(324.47265662)),\n",
       "             ('original_ngtdm_Coarseness', array(5.05164899e-06)),\n",
       "             ('original_ngtdm_Complexity', array(1426.25597794)),\n",
       "             ('original_ngtdm_Contrast', array(0.03201536)),\n",
       "             ('original_ngtdm_Strength', array(0.00995059))])"
      ]
     },
     "execution_count": 5,
     "metadata": {},
     "output_type": "execute_result"
    }
   ],
   "source": [
    "result"
   ]
  },
  {
   "cell_type": "code",
   "execution_count": 10,
   "metadata": {},
   "outputs": [
    {
     "data": {
      "text/plain": [
       "(1409,)"
      ]
     },
     "execution_count": 10,
     "metadata": {},
     "output_type": "execute_result"
    }
   ],
   "source": [
    "data.shape"
   ]
  },
  {
   "cell_type": "code",
   "execution_count": 13,
   "metadata": {},
   "outputs": [
    {
     "name": "stderr",
     "output_type": "stream",
     "text": [
      "/tmp/ipykernel_3890732/4111965751.py:6: VisibleDeprecationWarning: Creating an ndarray from ragged nested sequences (which is a list-or-tuple of lists-or-tuples-or ndarrays with different lengths or shapes) is deprecated. If you meant to do this, you must specify 'dtype=object' when creating the ndarray.\n",
      "  temp = np.asarray(temp)\n"
     ]
    },
    {
     "data": {
      "text/plain": [
       "(129,)"
      ]
     },
     "execution_count": 13,
     "metadata": {},
     "output_type": "execute_result"
    }
   ],
   "source": [
    "temp = []\n",
    "\n",
    "for item in result:\n",
    "    temp.append(result[item])\n",
    "\n",
    "temp = np.asarray(temp)\n",
    "temp.shape"
   ]
  },
  {
   "cell_type": "code",
   "execution_count": 34,
   "metadata": {},
   "outputs": [
    {
     "name": "stdout",
     "output_type": "stream",
     "text": [
      "v3.1.0\n",
      "1.23.4\n",
      "2.2.1\n",
      "1.4.1\n",
      "3.8.15\n",
      "{'minimumROIDimensions': 2, 'minimumROISize': None, 'normalize': False, 'normalizeScale': 1, 'removeOutliers': None, 'resampledPixelSpacing': None, 'interpolator': 'sitkBSpline', 'preCrop': False, 'padDistance': 5, 'distances': [1], 'force2D': False, 'force2Ddimension': 0, 'resegmentRange': None, 'label': 1, 'additionalInfo': True}\n",
      "{'Original': {}}\n",
      "c3d3ee17ad446e5d5683cccb50fae55207e00273\n",
      "3D\n",
      "b6d2a74d5515399107f327b4cde5d48c1e5e36e4\n"
     ]
    }
   ],
   "source": [
    "values = []\n",
    "\n",
    "for item in temp:\n",
    "    try:\n",
    "        if(type(item) == tuple):\n",
    "            for single in item:\n",
    "                values.append(float(single))\n",
    "        else:\n",
    "            values.append(float(item))\n",
    "    except:\n",
    "        print(item)\n",
    "\n",
    "values = np.asarray(values)"
   ]
  },
  {
   "cell_type": "code",
   "execution_count": 35,
   "metadata": {},
   "outputs": [
    {
     "data": {
      "text/plain": [
       "(136,)"
      ]
     },
     "execution_count": 35,
     "metadata": {},
     "output_type": "execute_result"
    }
   ],
   "source": [
    "values.shape"
   ]
  },
  {
   "cell_type": "code",
   "execution_count": 72,
   "metadata": {},
   "outputs": [
    {
     "name": "stdout",
     "output_type": "stream",
     "text": [
      "v3.1.0\n",
      "1.23.4\n",
      "2.2.1\n",
      "1.4.1\n",
      "3.8.15\n",
      "{'minimumROIDimensions': 2, 'minimumROISize': None, 'normalize': False, 'normalizeScale': 1, 'removeOutliers': None, 'resampledPixelSpacing': None, 'interpolator': 'sitkBSpline', 'preCrop': False, 'padDistance': 5, 'distances': [1], 'force2D': False, 'force2Ddimension': 0, 'resegmentRange': None, 'label': 1, 'additionalInfo': True}\n",
      "{'Original': {}}\n",
      "f070bd7e33bfff5ec2ae34053ab01c44b0b8fbab\n",
      "3D\n",
      "a819ab2ce961b64ac084ef779fd49bf722c1a406\n"
     ]
    },
    {
     "name": "stderr",
     "output_type": "stream",
     "text": [
      "/tmp/ipykernel_3890732/3876688069.py:15: VisibleDeprecationWarning: Creating an ndarray from ragged nested sequences (which is a list-or-tuple of lists-or-tuples-or ndarrays with different lengths or shapes) is deprecated. If you meant to do this, you must specify 'dtype=object' when creating the ndarray.\n",
      "  temp = np.asarray(temp)\n"
     ]
    }
   ],
   "source": [
    "arr = []\n",
    "path = \"../../../../../../vol/aimspace/users/wyo/radiomics/body/1000770.npz\"\n",
    "data = np.load(path, allow_pickle=True)\n",
    "lst = data.files\n",
    "for item in lst:\n",
    "    vertices_latent_space = data[item]\n",
    "\n",
    "vertices_latent_space = vertices_latent_space.item()\n",
    "\n",
    "temp = []\n",
    "\n",
    "for item in vertices_latent_space:\n",
    "    temp.append(vertices_latent_space[item])\n",
    "\n",
    "temp = np.asarray(temp)\n",
    "\n",
    "values = []\n",
    "\n",
    "for item in temp:\n",
    "    try:\n",
    "        if(type(item) == tuple):\n",
    "            for single in item:\n",
    "                values.append(float(single))\n",
    "        else:\n",
    "            values.append(float(item))\n",
    "    except:\n",
    "        print(item)\n",
    "\n",
    "values = np.asarray(values)"
   ]
  },
  {
   "cell_type": "code",
   "execution_count": 74,
   "metadata": {},
   "outputs": [
    {
     "data": {
      "text/plain": [
       "(136,)"
      ]
     },
     "execution_count": 74,
     "metadata": {},
     "output_type": "execute_result"
    }
   ],
   "source": [
    "values.shape"
   ]
  },
  {
   "cell_type": "code",
   "execution_count": 76,
   "metadata": {},
   "outputs": [
    {
     "data": {
      "text/plain": [
       "array([ 2.23214293e+00,  2.23214293e+00,  3.00000000e+00,  2.24000000e+02,\n",
       "        1.68000000e+02,  3.63000000e+02,  5.06922615e+01,  0.00000000e+00,\n",
       "        1.10433313e+03,  2.23214293e+00,  2.23214293e+00,  3.00000000e+00,\n",
       "        2.24000000e+02,  1.68000000e+02,  3.63000000e+02,  5.00000000e+00,\n",
       "        2.00000000e+01,  0.00000000e+00,  2.19000000e+02,  9.40000000e+01,\n",
       "        3.63000000e+02,  3.22678800e+06,  1.00000000e+00,  1.17310105e+02,\n",
       "        6.09144859e+01,  2.15859411e+02,  1.18529216e+01,  4.92980294e+01,\n",
       "       -3.82921767e+02,  3.50829285e-01,  1.62747084e-01,  1.81855294e+02,\n",
       "        1.11741046e+03,  1.14129552e+03,  1.09891974e+03,  4.87021668e+02,\n",
       "        1.14267204e+03,  4.82224767e+07,  3.92020314e+02,  5.14393187e-01,\n",
       "        1.24553306e+06,  2.58288902e-02,  4.82320462e+07,  1.94999651e+01,\n",
       "        3.85166718e+02,  1.76515433e+11,  4.07964740e+00,  2.74374889e+02,\n",
       "        2.20509587e+00,  1.10433313e+03,  1.31790136e+02,  1.80708360e+02,\n",
       "        1.41000000e+02,  0.00000000e+00,  1.10433313e+03,  1.09284037e+02,\n",
       "        2.33887022e+02,  5.32504335e-01,  2.63844433e+12,  7.54532499e-02,\n",
       "        2.20476280e+04,  9.17836599e+01,  3.92060855e+04,  7.95826395e+02,\n",
       "        1.34117691e+02,  8.49945440e+00,  8.80884199e-01,  1.80784002e+00,\n",
       "        2.58104858e+00,  5.10862719e+00,  5.55582320e-01,  5.06846754e-01,\n",
       "        9.95931846e-01,  9.63466463e-01, -2.74158645e-01,  9.38690388e-01,\n",
       "        3.67249813e-01,  7.77039202e+00,  2.00011473e-02,  7.03293760e+00,\n",
       "        8.82988483e-01,  7.87277259e-02,  1.55407840e+01,  5.02492991e+00,\n",
       "        3.56542862e+01,  8.09878439e+00,  1.83186806e+05,  5.67706357e-02,\n",
       "        3.70663988e+01,  2.43471641e+05,  3.52597261e+01,  9.51669369e+01,\n",
       "        1.15002147e+02,  8.59178315e+03,  4.61395834e+01,  1.98178949e-01,\n",
       "        8.42921764e-02,  9.44659909e+00,  4.52128792e-03,  1.41434428e+05,\n",
       "        6.26215363e-02,  3.27625600e+01,  1.00753241e+02,  3.35357044e+00,\n",
       "        2.70901141e+02,  1.09016988e+00,  1.42668104e-01,  5.34918834e+00,\n",
       "        1.37022502e+06,  6.04048488e-01,  6.98918362e-01,  1.26435945e+00,\n",
       "        8.04457790e-01,  8.32068489e+01,  9.11814016e-02,  1.55515225e+04,\n",
       "        6.29940192e-02,  2.38587878e+01,  1.17781159e+02,  1.94738884e+06,\n",
       "        2.38524784e+07,  9.61412136e+05,  3.65010273e-02,  7.25008956e+04,\n",
       "        2.93676893e-01,  5.58241272e-01,  6.54643472e+01,  1.93813145e-02,\n",
       "        6.94092685e+00,  7.65073503e-02,  1.94721800e+06,  4.92584775e+02,\n",
       "        4.43285047e-06,  1.44741172e+03,  3.77014412e-02,  1.15089389e-02])"
      ]
     },
     "execution_count": 76,
     "metadata": {},
     "output_type": "execute_result"
    }
   ],
   "source": [
    "path = \"../../../../../../vol/aimspace/users/wyo/radiomics/body_temp/1000770.npz\"\n",
    "data = np.load(path, allow_pickle=True)\n",
    "lst = data.files\n",
    "for item in lst:\n",
    "    vertices_latent_space = data[item]\n",
    "\n",
    "vertices_latent_space"
   ]
  },
  {
   "cell_type": "code",
   "execution_count": null,
   "metadata": {},
   "outputs": [],
   "source": []
  }
 ],
 "metadata": {
  "kernelspec": {
   "display_name": "digital_twin",
   "language": "python",
   "name": "python3"
  },
  "language_info": {
   "codemirror_mode": {
    "name": "ipython",
    "version": 3
   },
   "file_extension": ".py",
   "mimetype": "text/x-python",
   "name": "python",
   "nbconvert_exporter": "python",
   "pygments_lexer": "ipython3",
   "version": "3.8.15"
  },
  "orig_nbformat": 4
 },
 "nbformat": 4,
 "nbformat_minor": 2
}
