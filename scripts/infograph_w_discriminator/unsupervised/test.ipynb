{
 "cells": [
  {
   "cell_type": "markdown",
   "metadata": {},
   "source": [
    "# Imports"
   ]
  },
  {
   "cell_type": "code",
   "execution_count": 1,
   "metadata": {},
   "outputs": [
    {
     "name": "stderr",
     "output_type": "stream",
     "text": [
      "INFO - 2023-10-14 10:07:45,587 - utils - Note: NumExpr detected 32 cores but \"NUMEXPR_MAX_THREADS\" not set, so enforcing safe limit of 8.\n",
      "INFO - 2023-10-14 10:07:45,588 - utils - NumExpr defaulting to 8 threads.\n",
      "INFO - 2023-10-14 10:07:48,042 - instantiator - Created a temporary directory at /tmp/tmpi7mftijk\n",
      "INFO - 2023-10-14 10:07:48,043 - instantiator - Writing /tmp/tmpi7mftijk/_remote_module_non_scriptable.py\n"
     ]
    }
   ],
   "source": [
    "#imports\n",
    "import os\n",
    "import argparse\n",
    "import ast\n",
    "import pickle as pkl\n",
    "from itertools import tee\n",
    "\n",
    "import wandb\n",
    "import numpy as np\n",
    "import open3d as o3d\n",
    "\n",
    "import torch\n",
    "from torch import nn\n",
    "import torch.nn.functional as F\n",
    "from torch_geometric.data import Data\n",
    "from torch_geometric.utils import train_test_split_edges\n",
    "from torch_geometric.nn import GCNConv, SAGEConv, GATConv, GAE, LayerNorm, Linear\n",
    "from torch_geometric.nn import global_mean_pool, global_max_pool\n",
    "from torch_sparse import SparseTensor\n",
    "from sklearn.metrics import roc_auc_score\n",
    "from sklearn.metrics import average_precision_score\n",
    "\n",
    "from torch_geometric.datasets import TUDataset\n",
    "from torch_geometric.data import DataLoader"
   ]
  },
  {
   "cell_type": "markdown",
   "metadata": {},
   "source": [
    "# Functions"
   ]
  },
  {
   "cell_type": "code",
   "execution_count": 5,
   "metadata": {},
   "outputs": [],
   "source": [
    "############################################################################################\n",
    "\n",
    "def get_data(path, organ, save=False):\n",
    "    registered_mesh = []\n",
    "    dirs = next(os.walk(path))[1]\n",
    "    dataset = []\n",
    "    dirs = dirs[:2]\n",
    "    \n",
    "    for dir in dirs:\n",
    "        mesh = o3d.io.read_triangle_mesh(f'{path}{dir}/{organ}')\n",
    "    \n",
    "        vertices_data = np.asarray(mesh.vertices)\n",
    "        triangles = np.asarray(mesh.triangles)\n",
    "        vertices = torch.from_numpy(vertices_data).double()\n",
    "        edges = []\n",
    "        for triangle in triangles:\n",
    "            edges.append([triangle[0], triangle[1]])\n",
    "            edges.append([triangle[0], triangle[2]])\n",
    "            edges.append([triangle[1], triangle[2]])\n",
    "            \n",
    "        edges_torch = [[],[]]\n",
    "        edges =np.unique(np.array(edges), axis=0)\n",
    "        for edge in edges:\n",
    "            edges_torch[0].append(edge[0])\n",
    "            edges_torch[1].append(edge[1])\n",
    "    \n",
    "        edges_torch = torch.from_numpy(np.asarray(edges_torch)).long()\n",
    "    \n",
    "        registered_mesh.append((vertices.type(torch.float32), edges_torch))\n",
    "        data = Data(x=registered_mesh[0][0], y=registered_mesh[0][0].flatten(), edge_index=registered_mesh[0][1], num_nodes= len(registered_mesh[0][0]))\n",
    "        dataset.append(data)\n",
    "        # data = train_test_split_edges(data)\n",
    "        # print(data)\n",
    "    \n",
    "    if(save):\n",
    "        with open(f'../data/infograph/{organ}/data', 'wb') as f:\n",
    "            pkl.dump(dataset, f)\n",
    "\n",
    "    return dataset\n",
    "\n",
    "############################################################################################"
   ]
  },
  {
   "cell_type": "markdown",
   "metadata": {},
   "source": [
    "# Data"
   ]
  },
  {
   "cell_type": "code",
   "execution_count": 1,
   "metadata": {},
   "outputs": [
    {
     "data": {
      "text/plain": [
       "MUTAG(188)"
      ]
     },
     "execution_count": 1,
     "metadata": {},
     "output_type": "execute_result"
    }
   ],
   "source": [
    "\n",
    "dataset = TUDataset(\"./Data/\", name=\"MUTAG\").shuffle()\n",
    "dataset"
   ]
  },
  {
   "cell_type": "code",
   "execution_count": 3,
   "metadata": {},
   "outputs": [
    {
     "data": {
      "text/plain": [
       "Data(edge_index=[2, 36], x=[17, 7], edge_attr=[36, 4], y=[1])"
      ]
     },
     "execution_count": 3,
     "metadata": {},
     "output_type": "execute_result"
    }
   ],
   "source": [
    "dataset[0]\n",
    "#Data(x=registered_mesh[0][0], y=registered_mesh[0][1], edge_index=registered_mesh[0][1], num_nodes= len(registered_mesh[0][0]))"
   ]
  },
  {
   "cell_type": "code",
   "execution_count": 4,
   "metadata": {},
   "outputs": [
    {
     "name": "stdout",
     "output_type": "stream",
     "text": [
      "9\n"
     ]
    },
    {
     "name": "stderr",
     "output_type": "stream",
     "text": [
      "/u/home/wyo/.conda/envs/digital_twin/lib/python3.8/site-packages/torch_geometric/deprecation.py:12: UserWarning: 'data.DataLoader' is deprecated, use 'loader.DataLoader' instead\n",
      "  warnings.warn(out)\n"
     ]
    }
   ],
   "source": [
    "\n",
    "dataloader = DataLoader(dataset, batch_size=9)\n",
    "for x in dataloader:\n",
    "    print(x.num_graphs)\n",
    "    break"
   ]
  },
  {
   "cell_type": "code",
   "execution_count": 6,
   "metadata": {},
   "outputs": [
    {
     "data": {
      "text/plain": [
       "Data(x=[1087, 3], edge_index=[2, 4555], y=[3261], num_nodes=1087)"
      ]
     },
     "execution_count": 6,
     "metadata": {},
     "output_type": "execute_result"
    }
   ],
   "source": [
    "dataset = get_data(\"../../../../../../../vol/aimspace/users/wyo/registered_meshes/2000/\", \"liver_mesh.ply\")\n",
    "dataset[0]"
   ]
  },
  {
   "cell_type": "code",
   "execution_count": 6,
   "metadata": {},
   "outputs": [
    {
     "name": "stdout",
     "output_type": "stream",
     "text": [
      "3166348 2809772\n"
     ]
    }
   ],
   "source": [
    "test_ids_path = \"../../../data/NonNa_organs_split_test.txt\"\n",
    "path = \"../../../../../../../vol/aimspace/users/wyo/registered_meshes/2000/\"\n",
    "dirs = next(os.walk(path))[1]\n",
    "test_dirs = np.loadtxt(test_ids_path, delimiter=\",\", dtype=str)\n",
    "\n",
    "print(dirs[0], test_dirs[0])\n"
   ]
  },
  {
   "cell_type": "code",
   "execution_count": 2,
   "metadata": {},
   "outputs": [],
   "source": [
    "import torch\n",
    "from main import InfoGraph\n",
    "model = torch.load('../../../models/liver_mesh.ply_infograph.pt', map_location=torch.device('cpu'))"
   ]
  },
  {
   "cell_type": "code",
   "execution_count": 3,
   "metadata": {},
   "outputs": [],
   "source": [
    "from embed import get_single_subject\n",
    "graph = get_single_subject(\"../../../../../../../vol/aimspace/users/wyo/registered_meshes/2000/\", \"liver_mesh.ply\", str(1000071))"
   ]
  },
  {
   "cell_type": "code",
   "execution_count": 5,
   "metadata": {},
   "outputs": [
    {
     "name": "stdout",
     "output_type": "stream",
     "text": [
      "torch.Size([1, 320]) torch.Size([1087, 320])\n"
     ]
    }
   ],
   "source": [
    "y, M = model.embed(graph.x, graph.edge_index) \n",
    "print(y.shape, M.shape)"
   ]
  },
  {
   "cell_type": "code",
   "execution_count": null,
   "metadata": {},
   "outputs": [],
   "source": []
  }
 ],
 "metadata": {
  "kernelspec": {
   "display_name": "digital_twin",
   "language": "python",
   "name": "python3"
  },
  "language_info": {
   "codemirror_mode": {
    "name": "ipython",
    "version": 3
   },
   "file_extension": ".py",
   "mimetype": "text/x-python",
   "name": "python",
   "nbconvert_exporter": "python",
   "pygments_lexer": "ipython3",
   "version": "3.8.15"
  },
  "orig_nbformat": 4
 },
 "nbformat": 4,
 "nbformat_minor": 2
}
