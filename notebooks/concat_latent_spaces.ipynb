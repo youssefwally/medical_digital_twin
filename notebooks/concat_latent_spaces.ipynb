{
 "cells": [
  {
   "cell_type": "markdown",
   "metadata": {},
   "source": [
    "# Imports"
   ]
  },
  {
   "cell_type": "code",
   "execution_count": 2,
   "metadata": {},
   "outputs": [],
   "source": [
    "import os\n",
    "import numpy as np\n",
    "import pickle as pkl\n",
    "from sklearn.decomposition import PCA"
   ]
  },
  {
   "cell_type": "markdown",
   "metadata": {},
   "source": [
    "# Paths"
   ]
  },
  {
   "cell_type": "code",
   "execution_count": 3,
   "metadata": {},
   "outputs": [],
   "source": [
    "root_path = \"../../../../../../vol/aimspace/users/wyo/latent_spaces/vertices_prediction\"\n",
    "body_path = \"../../../../../../vol/aimspace/users/wyo/latent_spaces/body_vertices_prediction\"\n",
    "organs = [\"liver\", \"spleen\", \"left_kidney\", \"right_kidney\", \"pancreas\"]"
   ]
  },
  {
   "cell_type": "code",
   "execution_count": 19,
   "metadata": {},
   "outputs": [
    {
     "name": "stdout",
     "output_type": "stream",
     "text": [
      "(1107, 256)\n",
      "(1031, 256)\n",
      "(1019, 256)\n",
      "(1019, 256)\n",
      "(1015, 256)\n"
     ]
    }
   ],
   "source": [
    "initial = True\n",
    "for organ in organs:\n",
    "    organ_path = os.path.join(root_path, organ, \"4108005\")\n",
    "    with open(organ_path, \"rb\") as fp:\n",
    "        vertices_latent_space = pkl.load(fp)\n",
    "    fp.close()\n",
    "    print(vertices_latent_space.shape)\n",
    "    if(initial):\n",
    "        initial = False\n",
    "        combined_latent_space = vertices_latent_space\n",
    "    else:\n",
    "        combined_latent_space = np.concatenate((combined_latent_space, vertices_latent_space))"
   ]
  },
  {
   "cell_type": "code",
   "execution_count": 20,
   "metadata": {},
   "outputs": [
    {
     "data": {
      "text/plain": [
       "(5191, 256)"
      ]
     },
     "execution_count": 20,
     "metadata": {},
     "output_type": "execute_result"
    }
   ],
   "source": [
    "combined_latent_space.shape"
   ]
  },
  {
   "cell_type": "code",
   "execution_count": 6,
   "metadata": {},
   "outputs": [],
   "source": [
    "#WRITING\n",
    "with open(\"./test\", \"wb\") as fp:\n",
    "    pkl.dump(combined_latent_space, fp)\n",
    "fp.close()"
   ]
  },
  {
   "cell_type": "code",
   "execution_count": 15,
   "metadata": {},
   "outputs": [
    {
     "data": {
      "text/plain": [
       "5.028475761413574"
      ]
     },
     "execution_count": 15,
     "metadata": {},
     "output_type": "execute_result"
    }
   ],
   "source": [
    "file_size = os.path.getsize(\"./test\")\n",
    "exponents_map = {'bytes': 0, 'kb': 1, 'mb': 2, 'gb': 3}\n",
    "size = file_size / 1024 ** exponents_map[\"mb\"]\n",
    "size"
   ]
  },
  {
   "cell_type": "code",
   "execution_count": 25,
   "metadata": {},
   "outputs": [
    {
     "data": {
      "text/plain": [
       "5.028475761413574"
      ]
     },
     "execution_count": 25,
     "metadata": {},
     "output_type": "execute_result"
    }
   ],
   "source": [
    "path = \"../../../../../../vol/aimspace/users/wyo/latent_spaces/combined/organs/1000071\"\n",
    "file_size = os.path.getsize(path)\n",
    "exponents_map = {'bytes': 0, 'kb': 1, 'mb': 2, 'gb': 3}\n",
    "size = file_size / 1024 ** exponents_map[\"mb\"]\n",
    "size"
   ]
  },
  {
   "cell_type": "code",
   "execution_count": 26,
   "metadata": {},
   "outputs": [
    {
     "data": {
      "text/plain": [
       "0.4982023239135742"
      ]
     },
     "execution_count": 26,
     "metadata": {},
     "output_type": "execute_result"
    }
   ],
   "source": [
    "path = \"../../../../../../vol/aimspace/users/wyo/latent_spaces/body_vertices_prediction/1000071.ply\"\n",
    "file_size = os.path.getsize(path)\n",
    "exponents_map = {'bytes': 0, 'kb': 1, 'mb': 2, 'gb': 3}\n",
    "size = file_size / 1024 ** exponents_map[\"mb\"]\n",
    "size"
   ]
  },
  {
   "cell_type": "code",
   "execution_count": 22,
   "metadata": {},
   "outputs": [
    {
     "name": "stdout",
     "output_type": "stream",
     "text": [
      "(5149, 256)\n"
     ]
    }
   ],
   "source": [
    "with open(path, \"rb\") as fp:\n",
    "    vertices_latent_space = pkl.load(fp)\n",
    "fp.close()\n",
    "print(vertices_latent_space.shape)"
   ]
  },
  {
   "cell_type": "markdown",
   "metadata": {},
   "source": [
    "# PCA"
   ]
  },
  {
   "cell_type": "markdown",
   "metadata": {},
   "source": [
    "## Organs"
   ]
  },
  {
   "cell_type": "code",
   "execution_count": 6,
   "metadata": {},
   "outputs": [],
   "source": [
    "organ_latent_spaces_path = \"../../../../../../vol/aimspace/users/wyo/latent_spaces/vertices_prediction/\"\n",
    "dirs = next(os.walk(f'{organ_latent_spaces_path}{organs[0]}'))[2]\n",
    "\n",
    "for dir in dirs:\n",
    "    organ_path = os.path.join(root_path, organs[0], str(dir)) #4108005\n",
    "    with open(organ_path, \"rb\") as fp:\n",
    "        vertices_latent_space = pkl.load(fp)\n",
    "    if(vertices_latent_space.shape[1] < 7):\n",
    "        print(dir)\n",
    "        print(vertices_latent_space.shape)"
   ]
  },
  {
   "cell_type": "code",
   "execution_count": 7,
   "metadata": {},
   "outputs": [],
   "source": [
    "organ_latent_spaces_path = \"../../../../../../vol/aimspace/users/wyo/latent_spaces/vertices_prediction/\"\n",
    "dirs = next(os.walk(f'{organ_latent_spaces_path}{organs[0]}'))[2]\n",
    "\n",
    "for dir in dirs:\n",
    "    organ_path = os.path.join(root_path, organs[0], str(dir)) #4108005\n",
    "    with open(organ_path, \"rb\") as fp:\n",
    "        vertices_latent_space = pkl.load(fp)\n",
    "    if(vertices_latent_space.shape[0] < 7):\n",
    "        print(dir)\n",
    "        print(vertices_latent_space.shape)"
   ]
  },
  {
   "cell_type": "code",
   "execution_count": 4,
   "metadata": {},
   "outputs": [
    {
     "name": "stdout",
     "output_type": "stream",
     "text": [
      "(1087, 256)\n",
      "(1087, 15)\n"
     ]
    },
    {
     "data": {
      "text/plain": [
       "{'0': 'PC 1 (73.5%)',\n",
       " '1': 'PC 2 (22.4%)',\n",
       " '2': 'PC 3 (3.4%)',\n",
       " '3': 'PC 4 (0.3%)',\n",
       " '4': 'PC 5 (0.1%)',\n",
       " '5': 'PC 6 (0.1%)',\n",
       " '6': 'PC 7 (0.1%)',\n",
       " '7': 'PC 8 (0.0%)',\n",
       " '8': 'PC 9 (0.0%)',\n",
       " '9': 'PC 10 (0.0%)',\n",
       " '10': 'PC 11 (0.0%)',\n",
       " '11': 'PC 12 (0.0%)',\n",
       " '12': 'PC 13 (0.0%)',\n",
       " '13': 'PC 14 (0.0%)',\n",
       " '14': 'PC 15 (0.0%)'}"
      ]
     },
     "execution_count": 4,
     "metadata": {},
     "output_type": "execute_result"
    }
   ],
   "source": [
    "#DIM\n",
    "organ_path = os.path.join(root_path, organs[0], \"1000071\") #4108005\n",
    "with open(organ_path, \"rb\") as fp:\n",
    "    vertices_latent_space = pkl.load(fp)\n",
    "fp.close()\n",
    "vertices_latent_space = np.asarray(vertices_latent_space)\n",
    "print(vertices_latent_space.shape)\n",
    "pca = PCA(15) \n",
    "components = pca.fit_transform(vertices_latent_space)\n",
    "print(components.shape)\n",
    "labels = {\n",
    "    str(i): f\"PC {i+1} ({var:.1f}%)\"\n",
    "    for i, var in enumerate(pca.explained_variance_ratio_ * 100)\n",
    "}\n",
    "labels"
   ]
  },
  {
   "cell_type": "code",
   "execution_count": 74,
   "metadata": {},
   "outputs": [
    {
     "name": "stdout",
     "output_type": "stream",
     "text": [
      "(256, 15)\n"
     ]
    },
    {
     "data": {
      "text/plain": [
       "{'0': 'PC 1 (99.0%)',\n",
       " '1': 'PC 2 (0.7%)',\n",
       " '2': 'PC 3 (0.3%)',\n",
       " '3': 'PC 4 (0.0%)',\n",
       " '4': 'PC 5 (0.0%)',\n",
       " '5': 'PC 6 (0.0%)',\n",
       " '6': 'PC 7 (0.0%)',\n",
       " '7': 'PC 8 (0.0%)',\n",
       " '8': 'PC 9 (0.0%)',\n",
       " '9': 'PC 10 (0.0%)',\n",
       " '10': 'PC 11 (0.0%)',\n",
       " '11': 'PC 12 (0.0%)',\n",
       " '12': 'PC 13 (0.0%)',\n",
       " '13': 'PC 14 (0.0%)',\n",
       " '14': 'PC 15 (0.0%)'}"
      ]
     },
     "execution_count": 74,
     "metadata": {},
     "output_type": "execute_result"
    }
   ],
   "source": [
    "#V\n",
    "organ_path = os.path.join(root_path, organs[0], \"1000071\") #4108005\n",
    "with open(organ_path, \"rb\") as fp:\n",
    "    vertices_latent_space = pkl.load(fp)\n",
    "fp.close()\n",
    "vertices_latent_space = np.asarray(vertices_latent_space)\n",
    "\n",
    "pca = PCA(15) \n",
    "components = pca.fit_transform(vertices_latent_space.T)\n",
    "print(components.shape)\n",
    "labels = {\n",
    "    str(i): f\"PC {i+1} ({var:.1f}%)\"\n",
    "    for i, var in enumerate(pca.explained_variance_ratio_ * 100)\n",
    "}\n",
    "labels"
   ]
  },
  {
   "cell_type": "markdown",
   "metadata": {},
   "source": [
    "## Body"
   ]
  },
  {
   "cell_type": "code",
   "execution_count": 75,
   "metadata": {},
   "outputs": [
    {
     "data": {
      "text/plain": [
       "{'0': 'PC 1 (45.7%)',\n",
       " '1': 'PC 2 (35.8%)',\n",
       " '2': 'PC 3 (18.6%)',\n",
       " '3': 'PC 4 (0.0%)',\n",
       " '4': 'PC 5 (0.0%)',\n",
       " '5': 'PC 6 (0.0%)',\n",
       " '6': 'PC 7 (0.0%)',\n",
       " '7': 'PC 8 (0.0%)',\n",
       " '8': 'PC 9 (0.0%)',\n",
       " '9': 'PC 10 (0.0%)',\n",
       " '10': 'PC 11 (0.0%)',\n",
       " '11': 'PC 12 (0.0%)',\n",
       " '12': 'PC 13 (0.0%)',\n",
       " '13': 'PC 14 (0.0%)',\n",
       " '14': 'PC 15 (0.0%)'}"
      ]
     },
     "execution_count": 75,
     "metadata": {},
     "output_type": "execute_result"
    }
   ],
   "source": [
    "organ_path = os.path.join(body_path, \"6022586.ply\")\n",
    "with open(organ_path, \"rb\") as fp:\n",
    "    vertices_latent_space = pkl.load(fp)\n",
    "fp.close()\n",
    "vertices_latent_space = np.asarray(vertices_latent_space)\n",
    "\n",
    "pca = PCA(15) \n",
    "components = pca.fit_transform(vertices_latent_space)\n",
    "labels = {\n",
    "    str(i): f\"PC {i+1} ({var:.1f}%)\"\n",
    "    for i, var in enumerate(pca.explained_variance_ratio_ * 100)\n",
    "}\n",
    "labels"
   ]
  },
  {
   "cell_type": "code",
   "execution_count": 76,
   "metadata": {},
   "outputs": [
    {
     "data": {
      "text/plain": [
       "{'0': 'PC 1 (44.6%)',\n",
       " '1': 'PC 2 (36.9%)',\n",
       " '2': 'PC 3 (18.4%)',\n",
       " '3': 'PC 4 (0.1%)',\n",
       " '4': 'PC 5 (0.0%)',\n",
       " '5': 'PC 6 (0.0%)',\n",
       " '6': 'PC 7 (0.0%)',\n",
       " '7': 'PC 8 (0.0%)',\n",
       " '8': 'PC 9 (0.0%)',\n",
       " '9': 'PC 10 (0.0%)',\n",
       " '10': 'PC 11 (0.0%)',\n",
       " '11': 'PC 12 (0.0%)',\n",
       " '12': 'PC 13 (0.0%)',\n",
       " '13': 'PC 14 (0.0%)',\n",
       " '14': 'PC 15 (0.0%)'}"
      ]
     },
     "execution_count": 76,
     "metadata": {},
     "output_type": "execute_result"
    }
   ],
   "source": [
    "organ_path = os.path.join(body_path, \"6022586.ply\")\n",
    "with open(organ_path, \"rb\") as fp:\n",
    "    vertices_latent_space = pkl.load(fp)\n",
    "fp.close()\n",
    "vertices_latent_space = np.asarray(vertices_latent_space)\n",
    "\n",
    "pca = PCA(15) \n",
    "components = pca.fit_transform(vertices_latent_space.T)\n",
    "labels = {\n",
    "    str(i): f\"PC {i+1} ({var:.1f}%)\"\n",
    "    for i, var in enumerate(pca.explained_variance_ratio_ * 100)\n",
    "}\n",
    "labels"
   ]
  },
  {
   "cell_type": "markdown",
   "metadata": {},
   "source": [
    "## Organs Combined"
   ]
  },
  {
   "cell_type": "code",
   "execution_count": 72,
   "metadata": {},
   "outputs": [
    {
     "data": {
      "text/plain": [
       "{'0': 'PC 1 (59.7%)',\n",
       " '1': 'PC 2 (20.0%)',\n",
       " '2': 'PC 3 (10.6%)',\n",
       " '3': 'PC 4 (3.8%)',\n",
       " '4': 'PC 5 (2.7%)',\n",
       " '5': 'PC 6 (1.9%)',\n",
       " '6': 'PC 7 (0.7%)',\n",
       " '7': 'PC 8 (0.2%)',\n",
       " '8': 'PC 9 (0.1%)',\n",
       " '9': 'PC 10 (0.1%)',\n",
       " '10': 'PC 11 (0.0%)',\n",
       " '11': 'PC 12 (0.0%)',\n",
       " '12': 'PC 13 (0.0%)',\n",
       " '13': 'PC 14 (0.0%)',\n",
       " '14': 'PC 15 (0.0%)'}"
      ]
     },
     "execution_count": 72,
     "metadata": {},
     "output_type": "execute_result"
    }
   ],
   "source": [
    "organ_path = \"../../../../../../vol/aimspace/users/wyo/latent_spaces/combined/organs/1000071\" #4108005\n",
    "with open(organ_path, \"rb\") as fp:\n",
    "    vertices_latent_space = pkl.load(fp)\n",
    "fp.close()\n",
    "vertices_latent_space = np.asarray(vertices_latent_space)\n",
    "pca = PCA(15)\n",
    "components = pca.fit_transform(vertices_latent_space)\n",
    "labels = {\n",
    "    str(i): f\"PC {i+1} ({var:.1f}%)\"\n",
    "    for i, var in enumerate(pca.explained_variance_ratio_ * 100)\n",
    "}\n",
    "labels"
   ]
  },
  {
   "cell_type": "code",
   "execution_count": 77,
   "metadata": {},
   "outputs": [
    {
     "data": {
      "text/plain": [
       "{'0': 'PC 1 (97.9%)',\n",
       " '1': 'PC 2 (1.2%)',\n",
       " '2': 'PC 3 (0.4%)',\n",
       " '3': 'PC 4 (0.2%)',\n",
       " '4': 'PC 5 (0.1%)',\n",
       " '5': 'PC 6 (0.1%)',\n",
       " '6': 'PC 7 (0.1%)',\n",
       " '7': 'PC 8 (0.0%)',\n",
       " '8': 'PC 9 (0.0%)',\n",
       " '9': 'PC 10 (0.0%)',\n",
       " '10': 'PC 11 (0.0%)',\n",
       " '11': 'PC 12 (0.0%)',\n",
       " '12': 'PC 13 (0.0%)',\n",
       " '13': 'PC 14 (0.0%)',\n",
       " '14': 'PC 15 (0.0%)'}"
      ]
     },
     "execution_count": 77,
     "metadata": {},
     "output_type": "execute_result"
    }
   ],
   "source": [
    "organ_path = \"../../../../../../vol/aimspace/users/wyo/latent_spaces/combined/organs/1000071\" #4108005\n",
    "with open(organ_path, \"rb\") as fp:\n",
    "    vertices_latent_space = pkl.load(fp)\n",
    "fp.close()\n",
    "vertices_latent_space = np.asarray(vertices_latent_space)\n",
    "pca = PCA(15)\n",
    "components = pca.fit_transform(vertices_latent_space.T)\n",
    "labels = {\n",
    "    str(i): f\"PC {i+1} ({var:.1f}%)\"\n",
    "    for i, var in enumerate(pca.explained_variance_ratio_ * 100)\n",
    "}\n",
    "labels"
   ]
  },
  {
   "cell_type": "code",
   "execution_count": 10,
   "metadata": {},
   "outputs": [
    {
     "name": "stdout",
     "output_type": "stream",
     "text": [
      "(5149, 7)\n",
      "(7, 7)\n"
     ]
    },
    {
     "data": {
      "text/plain": [
       "{'0': 'PC 1 (74.8%)',\n",
       " '1': 'PC 2 (20.1%)',\n",
       " '2': 'PC 3 (4.7%)',\n",
       " '3': 'PC 4 (0.2%)',\n",
       " '4': 'PC 5 (0.1%)',\n",
       " '5': 'PC 6 (0.1%)',\n",
       " '6': 'PC 7 (0.0%)'}"
      ]
     },
     "execution_count": 10,
     "metadata": {},
     "output_type": "execute_result"
    }
   ],
   "source": [
    "organ_path = \"../../../../../../vol/aimspace/users/wyo/latent_spaces/combined/organs_7_pca/1000071\" #4108005\n",
    "with open(organ_path, \"rb\") as fp:\n",
    "    vertices_latent_space = pkl.load(fp)\n",
    "fp.close()\n",
    "vertices_latent_space = np.asarray(vertices_latent_space)\n",
    "print(vertices_latent_space.shape)\n",
    "pca = PCA()\n",
    "components = pca.fit_transform(vertices_latent_space.T)\n",
    "print(components.shape)\n",
    "labels = {\n",
    "    str(i): f\"PC {i+1} ({var:.1f}%)\"\n",
    "    for i, var in enumerate(pca.explained_variance_ratio_ * 100)\n",
    "}\n",
    "labels"
   ]
  },
  {
   "cell_type": "markdown",
   "metadata": {},
   "source": [
    "## All Combined"
   ]
  },
  {
   "cell_type": "code",
   "execution_count": 78,
   "metadata": {},
   "outputs": [
    {
     "data": {
      "text/plain": [
       "{'0': 'PC 1 (82.5%)',\n",
       " '1': 'PC 2 (9.5%)',\n",
       " '2': 'PC 3 (3.4%)',\n",
       " '3': 'PC 4 (1.7%)',\n",
       " '4': 'PC 5 (0.9%)',\n",
       " '5': 'PC 6 (0.7%)',\n",
       " '6': 'PC 7 (0.5%)',\n",
       " '7': 'PC 8 (0.3%)',\n",
       " '8': 'PC 9 (0.2%)',\n",
       " '9': 'PC 10 (0.1%)',\n",
       " '10': 'PC 11 (0.0%)',\n",
       " '11': 'PC 12 (0.0%)',\n",
       " '12': 'PC 13 (0.0%)',\n",
       " '13': 'PC 14 (0.0%)',\n",
       " '14': 'PC 15 (0.0%)'}"
      ]
     },
     "execution_count": 78,
     "metadata": {},
     "output_type": "execute_result"
    }
   ],
   "source": [
    "organ_path = \"../../../../../../vol/aimspace/users/wyo/latent_spaces/combined/organs_and_body/1000071\"\n",
    "with open(organ_path, \"rb\") as fp:\n",
    "    vertices_latent_space = pkl.load(fp)\n",
    "fp.close()\n",
    "vertices_latent_space = np.asarray(vertices_latent_space)\n",
    "\n",
    "pca = PCA(15)\n",
    "components = pca.fit_transform(vertices_latent_space)\n",
    "labels = {\n",
    "    str(i): f\"PC {i+1} ({var:.1f}%)\"\n",
    "    for i, var in enumerate(pca.explained_variance_ratio_ * 100)\n",
    "}\n",
    "labels"
   ]
  },
  {
   "cell_type": "code",
   "execution_count": 79,
   "metadata": {},
   "outputs": [
    {
     "data": {
      "text/plain": [
       "{'0': 'PC 1 (97.9%)',\n",
       " '1': 'PC 2 (1.2%)',\n",
       " '2': 'PC 3 (0.4%)',\n",
       " '3': 'PC 4 (0.2%)',\n",
       " '4': 'PC 5 (0.1%)',\n",
       " '5': 'PC 6 (0.1%)',\n",
       " '6': 'PC 7 (0.1%)',\n",
       " '7': 'PC 8 (0.0%)',\n",
       " '8': 'PC 9 (0.0%)',\n",
       " '9': 'PC 10 (0.0%)',\n",
       " '10': 'PC 11 (0.0%)',\n",
       " '11': 'PC 12 (0.0%)',\n",
       " '12': 'PC 13 (0.0%)',\n",
       " '13': 'PC 14 (0.0%)',\n",
       " '14': 'PC 15 (0.0%)'}"
      ]
     },
     "execution_count": 79,
     "metadata": {},
     "output_type": "execute_result"
    }
   ],
   "source": [
    "organ_path = \"../../../../../../vol/aimspace/users/wyo/latent_spaces/combined/organs_and_body/1000071\"\n",
    "with open(organ_path, \"rb\") as fp:\n",
    "    vertices_latent_space = pkl.load(fp)\n",
    "fp.close()\n",
    "vertices_latent_space = np.asarray(vertices_latent_space)\n",
    "\n",
    "pca = PCA(15)\n",
    "components = pca.fit_transform(vertices_latent_space.T)\n",
    "labels = {\n",
    "    str(i): f\"PC {i+1} ({var:.1f}%)\"\n",
    "    for i, var in enumerate(pca.explained_variance_ratio_ * 100)\n",
    "}\n",
    "labels"
   ]
  },
  {
   "cell_type": "code",
   "execution_count": 64,
   "metadata": {},
   "outputs": [
    {
     "name": "stdout",
     "output_type": "stream",
     "text": [
      "(5659, 3)\n"
     ]
    },
    {
     "data": {
      "text/plain": [
       "{'0': 'PC 1 (78.4%)', '1': 'PC 2 (21.6%)', '2': 'PC 3 (0.0%)'}"
      ]
     },
     "execution_count": 64,
     "metadata": {},
     "output_type": "execute_result"
    }
   ],
   "source": [
    "organ_path = \"../../../../../../vol/aimspace/users/wyo/latent_spaces/combined/organs_and_body_3_pca/1000071\"\n",
    "with open(organ_path, \"rb\") as fp:\n",
    "    vertices_latent_space = pkl.load(fp)\n",
    "fp.close()\n",
    "vertices_latent_space = np.asarray(vertices_latent_space)\n",
    "print(vertices_latent_space.shape)\n",
    "pca = PCA()\n",
    "components = pca.fit_transform(vertices_latent_space.T)\n",
    "labels = {\n",
    "    str(i): f\"PC {i+1} ({var:.1f}%)\"\n",
    "    for i, var in enumerate(pca.explained_variance_ratio_ * 100)\n",
    "}\n",
    "labels"
   ]
  },
  {
   "cell_type": "code",
   "execution_count": 4,
   "metadata": {},
   "outputs": [
    {
     "data": {
      "text/plain": [
       "25299"
      ]
     },
     "execution_count": 4,
     "metadata": {},
     "output_type": "execute_result"
    }
   ],
   "source": [
    "path = \"../../../../../../vol/aimspace/users/wyo/latent_spaces/body_vertices_prediction/\"\n",
    "dirs = next(os.walk(path))[2]\n",
    "len(dirs)"
   ]
  },
  {
   "cell_type": "code",
   "execution_count": 5,
   "metadata": {},
   "outputs": [
    {
     "data": {
      "text/plain": [
       "30379"
      ]
     },
     "execution_count": 5,
     "metadata": {},
     "output_type": "execute_result"
    }
   ],
   "source": [
    "path = \"../../../../../../vol/aimspace/users/wyo/latent_spaces/vertices_prediction/liver\"\n",
    "dirs = next(os.walk(path))[2]\n",
    "len(dirs)"
   ]
  },
  {
   "cell_type": "code",
   "execution_count": 6,
   "metadata": {},
   "outputs": [
    {
     "data": {
      "text/plain": [
       "2162"
      ]
     },
     "execution_count": 6,
     "metadata": {},
     "output_type": "execute_result"
    }
   ],
   "source": [
    "path = \"../../../../../../vol/aimspace/users/wyo/radiomics/body/\"\n",
    "dirs = next(os.walk(path))[2]\n",
    "len(dirs)"
   ]
  },
  {
   "cell_type": "code",
   "execution_count": 12,
   "metadata": {},
   "outputs": [
    {
     "data": {
      "text/plain": [
       "2589"
      ]
     },
     "execution_count": 12,
     "metadata": {},
     "output_type": "execute_result"
    }
   ],
   "source": [
    "path = \"../../../../../vol/aimspace/projects/ukbb/abdominal/abdominal_segmentations/features/radiomics_features_all_enhanced/1213541/liv.npz\"\n",
    "dirs = next(os.walk(path))[1]\n",
    "len(dirs)"
   ]
  },
  {
   "cell_type": "code",
   "execution_count": 8,
   "metadata": {},
   "outputs": [
    {
     "data": {
      "text/plain": [
       "75"
      ]
     },
     "execution_count": 8,
     "metadata": {},
     "output_type": "execute_result"
    }
   ],
   "source": [
    "path = \"../../../../../../vol/aimspace/users/wyo/latent_spaces/combined/all_radiomics/\"\n",
    "dirs = next(os.walk(path))[2]\n",
    "len(dirs)"
   ]
  },
  {
   "cell_type": "code",
   "execution_count": 96,
   "metadata": {},
   "outputs": [
    {
     "data": {
      "text/plain": [
       "(5636, 256)"
      ]
     },
     "execution_count": 96,
     "metadata": {},
     "output_type": "execute_result"
    }
   ],
   "source": [
    "path = \"../../../../../../vol/aimspace/users/wyo/latent_spaces/combined/organs_and_body/5385911\"\n",
    "with open(path, \"rb\") as fp:\n",
    "    vertices_latent_space = pkl.load(fp)\n",
    "fp.close()\n",
    "vertices_latent_space.shape"
   ]
  },
  {
   "cell_type": "code",
   "execution_count": null,
   "metadata": {},
   "outputs": [],
   "source": []
  }
 ],
 "metadata": {
  "kernelspec": {
   "display_name": "digital_twin",
   "language": "python",
   "name": "python3"
  },
  "language_info": {
   "codemirror_mode": {
    "name": "ipython",
    "version": 3
   },
   "file_extension": ".py",
   "mimetype": "text/x-python",
   "name": "python",
   "nbconvert_exporter": "python",
   "pygments_lexer": "ipython3",
   "version": "3.8.15"
  },
  "orig_nbformat": 4
 },
 "nbformat": 4,
 "nbformat_minor": 2
}
