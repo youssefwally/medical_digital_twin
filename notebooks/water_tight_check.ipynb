{
 "cells": [
  {
   "cell_type": "markdown",
   "metadata": {},
   "source": [
    "# Imports"
   ]
  },
  {
   "cell_type": "code",
   "execution_count": 2,
   "metadata": {},
   "outputs": [
    {
     "name": "stdout",
     "output_type": "stream",
     "text": [
      "Jupyter environment detected. Enabling Open3D WebVisualizer.\n",
      "[Open3D INFO] WebRTC GUI backend enabled.\n",
      "[Open3D INFO] WebRTCWindowSystem: HTTP handshake server disabled.\n"
     ]
    }
   ],
   "source": [
    "import os\n",
    "import numpy as np\n",
    "import open3d as o3d\n",
    "import trimesh"
   ]
  },
  {
   "cell_type": "markdown",
   "metadata": {},
   "source": [
    "# Functions"
   ]
  },
  {
   "cell_type": "code",
   "execution_count": 3,
   "metadata": {},
   "outputs": [],
   "source": [
    "def highlight_holes(mesh):\n",
    "    broken = trimesh.repair.broken_faces(mesh, color=[255,0,0,125])\n",
    "    print(f\"Number of Holes: {len(broken)}\")\n",
    "\n",
    "    return mesh\n",
    "\n",
    "def edges_to_lineset(mesh, edges, color):\n",
    "    ls = o3d.geometry.LineSet()\n",
    "    ls.points = mesh.vertices\n",
    "    ls.lines = edges\n",
    "    ls.paint_uniform_color(color)\n",
    "    return ls\n",
    "\n",
    "def check_properties(mesh):\n",
    "    mesh.compute_vertex_normals()\n",
    "\n",
    "    edge_manifold = mesh.is_edge_manifold(allow_boundary_edges=True)\n",
    "    edge_manifold_boundary = mesh.is_edge_manifold(allow_boundary_edges=False)\n",
    "    vertex_manifold = mesh.is_vertex_manifold()\n",
    "    self_intersecting = mesh.is_self_intersecting()\n",
    "    watertight = mesh.is_watertight()\n",
    "    orientable = mesh.is_orientable()\n",
    "\n",
    "    print(f\"  edge_manifold:          {edge_manifold}\")\n",
    "    print(f\"  edge_manifold_boundary: {edge_manifold_boundary}\")\n",
    "    print(f\"  vertex_manifold:        {vertex_manifold}\")\n",
    "    print(f\"  self_intersecting:      {self_intersecting}\")\n",
    "    print(f\"  watertight:             {watertight}\")\n",
    "    print(f\"  orientable:             {orientable}\")\n",
    "\n",
    "    geoms = [mesh]\n",
    "    if not edge_manifold:\n",
    "        edges = mesh.get_non_manifold_edges(allow_boundary_edges=True)\n",
    "        geoms.append(edges_to_lineset(mesh, edges, (1, 0, 0)))\n",
    "    if not edge_manifold_boundary:\n",
    "        edges = mesh.get_non_manifold_edges(allow_boundary_edges=False)\n",
    "        geoms.append(edges_to_lineset(mesh, edges, (0, 1, 0)))\n",
    "    if not vertex_manifold:\n",
    "        verts = np.asarray(mesh.get_non_manifold_vertices())\n",
    "        pcl = o3d.geometry.PointCloud(\n",
    "            points=o3d.utility.Vector3dVector(np.asarray(mesh.vertices)[verts]))\n",
    "        pcl.paint_uniform_color((0, 0, 1))\n",
    "        geoms.append(pcl)\n",
    "    if self_intersecting:\n",
    "        intersecting_triangles = np.asarray(\n",
    "            mesh.get_self_intersecting_triangles())\n",
    "        intersecting_triangles = intersecting_triangles[0:1]\n",
    "        intersecting_triangles = np.unique(intersecting_triangles)\n",
    "        print(\"  # visualize self-intersecting triangles\")\n",
    "        triangles = np.asarray(mesh.triangles)[intersecting_triangles]\n",
    "        edges = [\n",
    "            np.vstack((triangles[:, i], triangles[:, j]))\n",
    "            for i, j in [(0, 1), (1, 2), (2, 0)]\n",
    "        ]\n",
    "        edges = np.hstack(edges).T\n",
    "        edges = o3d.utility.Vector2iVector(edges)\n",
    "        geoms.append(edges_to_lineset(mesh, edges, (1, 1, 1)))\n",
    "    o3d.visualization.draw_geometries(geoms, mesh_show_back_face=True, window_name=\"edge_manifold: R, edge_manifold_boundary: G, vertex_manifold: B, self_intersecting: White\")"
   ]
  },
  {
   "cell_type": "markdown",
   "metadata": {},
   "source": [
    "# Paths"
   ]
  },
  {
   "cell_type": "code",
   "execution_count": 4,
   "metadata": {},
   "outputs": [],
   "source": [
    "original_meshes_path = \"../../../../../vol/aimspace/users/wyo/organ_meshes_ply/\"\n",
    "dec_meshes_path = \"../../../../../vol/aimspace/users/wyo/registered_meshes/2000/\"\n",
    "vc_meshes_path = \"../../../../../vol/aimspace/users/wyo/organ_decimations_ply/vertex_clustering/\""
   ]
  },
  {
   "cell_type": "markdown",
   "metadata": {},
   "source": [
    "# Data"
   ]
  },
  {
   "cell_type": "code",
   "execution_count": 3,
   "metadata": {},
   "outputs": [],
   "source": [
    "dirs = next(os.walk(original_meshes_path))[1]\n",
    "organs = [\"liver_mesh.ply\", \"spleen_mesh.ply\", \"left_kidney_mesh.ply\", \"right_kidney_mesh.ply\", \"pancreas_mesh.ply\"]"
   ]
  },
  {
   "cell_type": "markdown",
   "metadata": {},
   "source": [
    "# Checking Water Tightness"
   ]
  },
  {
   "cell_type": "code",
   "execution_count": 4,
   "metadata": {},
   "outputs": [
    {
     "data": {
      "text/plain": [
       "0"
      ]
     },
     "execution_count": 4,
     "metadata": {},
     "output_type": "execute_result"
    }
   ],
   "source": [
    "water_tightness = {\"liver\": [0, 0, 0, 0, 0, 0], \"left_kidney\": [0, 0, 0, 0, 0, 0], \"right_kidney\": [0, 0, 0, 0, 0, 0], \n",
    "                    \"spleen\": [0, 0, 0, 0, 0, 0], \"pancreas\": [0, 0, 0, 0, 0, 0]}\n",
    "output = {\"True\": 1, \"False\": 0}\n",
    "\n",
    "mesh_path = f'{original_meshes_path}{str(dirs[0])}/{organs[0]}'\n",
    "mesh = o3d.io.read_triangle_mesh(mesh_path)\n",
    "output[str(mesh.is_watertight())]"
   ]
  },
  {
   "cell_type": "code",
   "execution_count": 7,
   "metadata": {},
   "outputs": [
    {
     "name": "stdout",
     "output_type": "stream",
     "text": [
      "False False False\n",
      "Order: [original_not_wt, original_wt, dec_not_wt, dec_wt, vc_not_wt, vc_wt]\n",
      "{'liver': [4, 0, 4, 0, 4, 0], 'left_kidney': [1, 0, 1, 0, 1, 0], 'right_kidney': [1, 0, 1, 0, 1, 0], 'spleen': [1, 0, 1, 0, 1, 0], 'pancreas': [1, 0, 1, 0, 1, 0]}\n"
     ]
    }
   ],
   "source": [
    "for dir in dirs:\n",
    "    for organ in organs:\n",
    "        original_mesh_path = f'{original_meshes_path}{str(dir)}/{organ}'\n",
    "        dec_mesh_path = f'{dec_meshes_path}{str(dir)}/{organ}'\n",
    "        vc_mesh_path = f'{vc_meshes_path}{str(dir)}/{organ}'\n",
    "\n",
    "        original_mesh = o3d.io.read_triangle_mesh(original_mesh_path)\n",
    "        dec_mesh = o3d.io.read_triangle_mesh(dec_mesh_path)\n",
    "        vc_mesh = o3d.io.read_triangle_mesh(vc_mesh_path)\n",
    "\n",
    "        original_watertight = original_mesh.is_watertight()\n",
    "        dec_watertight = dec_mesh.is_watertight()\n",
    "        vc_watertight = vc_mesh.is_watertight()\n",
    "\n",
    "        water_tightness[str(organ[:-9])][output[str(original_watertight)]] += 1\n",
    "        water_tightness[str(organ[:-9])][output[str(dec_watertight)] + 2] += 1\n",
    "        water_tightness[str(organ[:-9])][output[str(vc_watertight)] + 4] += 1\n",
    "\n",
    "        print(original_watertight, dec_watertight, vc_watertight)\n",
    "        print(\"Order: [original_not_wt, original_wt, dec_not_wt, dec_wt, vc_not_wt, vc_wt]\")\n",
    "        print(water_tightness)\n",
    "        break\n",
    "    break\n",
    "    "
   ]
  },
  {
   "cell_type": "markdown",
   "metadata": {},
   "source": [
    "# Visualize Holes"
   ]
  },
  {
   "cell_type": "code",
   "execution_count": 5,
   "metadata": {},
   "outputs": [
    {
     "name": "stdout",
     "output_type": "stream",
     "text": [
      "  edge_manifold:          True\n",
      "  edge_manifold_boundary: True\n",
      "  vertex_manifold:        True\n",
      "  self_intersecting:      True\n",
      "  watertight:             False\n",
      "  orientable:             True\n",
      "  # visualize self-intersecting triangles\n"
     ]
    },
    {
     "data": {
      "text/plain": [
       "TriangleMesh with 23338 points and 46672 triangles."
      ]
     },
     "execution_count": 5,
     "metadata": {},
     "output_type": "execute_result"
    }
   ],
   "source": [
    "mesh = o3d.io.read_triangle_mesh(\"../../local_data/original_meshes/2901448/liver_mesh.ply\")\n",
    "# mesh = o3d.io.read_triangle_mesh(\"../../local_data/decimations/female/1000071/liver_mesh.ply\")\n",
    "mesh.paint_uniform_color([0, 0, 0])\n",
    "check_properties(mesh)\n",
    "mesh"
   ]
  },
  {
   "cell_type": "markdown",
   "metadata": {},
   "source": [
    "# Centering"
   ]
  },
  {
   "cell_type": "code",
   "execution_count": 22,
   "metadata": {},
   "outputs": [
    {
     "data": {
      "text/plain": [
       "TriangleMesh with 20608 points and 41218 triangles."
      ]
     },
     "execution_count": 22,
     "metadata": {},
     "output_type": "execute_result"
    }
   ],
   "source": [
    "mesh = o3d.io.read_triangle_mesh(\"../../local_data/registered_only/male/2901448/liver_mesh.ply\")\n",
    "mesh2 = o3d.io.read_triangle_mesh(\"../../local_data/registered_only/male/6022586/liver_mesh.ply\")\n",
    "pointSet = o3d.geometry.PointCloud()\n",
    "pointSet.points = o3d.utility.Vector3dVector(np.zeros((1,3)))\n",
    "mesh.paint_uniform_color((0, 1, 0))\n",
    "mesh2.paint_uniform_color((0, 0, 1))\n",
    "pointSet.paint_uniform_color((1, 0, 0))\n",
    "\n",
    "center = mesh.get_center()\n",
    "mesh.translate(-center, relative=True)\n",
    "center = mesh2.get_center()\n",
    "mesh2.translate(-center, relative=True)"
   ]
  },
  {
   "cell_type": "code",
   "execution_count": 23,
   "metadata": {},
   "outputs": [],
   "source": [
    "vis = o3d.visualization.Visualizer()\n",
    "vis.create_window()\n",
    "vis.add_geometry(mesh)\n",
    "vis.add_geometry(mesh2)\n",
    "vis.add_geometry(pointSet)\n",
    "vis.get_render_option().point_size = 20\n",
    "vis.get_render_option().mesh_show_back_face = True\n",
    "vis.get_render_option().mesh_show_wireframe = True\n",
    "vis.run()\n",
    "vis.destroy_window()"
   ]
  },
  {
   "cell_type": "code",
   "execution_count": null,
   "metadata": {},
   "outputs": [],
   "source": []
  }
 ],
 "metadata": {
  "kernelspec": {
   "display_name": "digital_twin",
   "language": "python",
   "name": "python3"
  },
  "language_info": {
   "codemirror_mode": {
    "name": "ipython",
    "version": 3
   },
   "file_extension": ".py",
   "mimetype": "text/x-python",
   "name": "python",
   "nbconvert_exporter": "python",
   "pygments_lexer": "ipython3",
   "version": "3.8.15"
  }
 },
 "nbformat": 4,
 "nbformat_minor": 2
}
