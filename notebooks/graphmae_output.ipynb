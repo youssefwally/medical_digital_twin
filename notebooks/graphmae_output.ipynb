{
 "cells": [
  {
   "attachments": {},
   "cell_type": "markdown",
   "metadata": {},
   "source": [
    "# Imports"
   ]
  },
  {
   "cell_type": "code",
   "execution_count": 2,
   "metadata": {},
   "outputs": [],
   "source": [
    "import os\n",
    "import pickle as pkl\n",
    "import numpy as np\n",
    "import pandas as pd\n",
    "from matplotlib import pyplot as plt\n",
    "# import seaborn as sns\n",
    "\n",
    "import torch\n",
    "# import open3d as o3d\n",
    "from collections import defaultdict\n",
    "\n",
    "import torch_geometric\n",
    "from torch_geometric.data import Data\n",
    "from torch_geometric.utils import train_test_split_edges\n",
    "# from torch_sparse import SparseTensor"
   ]
  },
  {
   "attachments": {},
   "cell_type": "markdown",
   "metadata": {},
   "source": [
    "# Functions"
   ]
  },
  {
   "cell_type": "code",
   "execution_count": null,
   "metadata": {},
   "outputs": [],
   "source": []
  },
  {
   "attachments": {},
   "cell_type": "markdown",
   "metadata": {},
   "source": []
  },
  {
   "cell_type": "markdown",
   "metadata": {},
   "source": [
    "# GraphMAE prediction"
   ]
  },
  {
   "cell_type": "code",
   "execution_count": 6,
   "metadata": {},
   "outputs": [
    {
     "name": "stdout",
     "output_type": "stream",
     "text": [
      "[[0.238839 0.363095 0.736226]\n",
      " [0.246652 0.363839 0.732094]\n",
      " [0.236607 0.422619 0.735537]\n",
      " ...\n",
      " [0.645089 0.633929 0.761019]\n",
      " [0.647321 0.607143 0.77135 ]\n",
      " [0.651786 0.622024 0.763085]]\n",
      "[[0.06673893 0.08179318 0.13401815]\n",
      " [0.06673893 0.08179318 0.13401815]\n",
      " [0.06673893 0.08179318 0.13401815]\n",
      " ...\n",
      " [0.06673893 0.08179318 0.13401815]\n",
      " [0.06673893 0.08179318 0.13401815]\n",
      " [0.06673893 0.08179318 0.13401815]]\n"
     ]
    }
   ],
   "source": [
    "mesh = o3d.io.read_triangle_mesh(\"../../local_data/organ_decimations_ply/2000/1000071/liver_mesh.ply\")\n",
    "print(np.asarray(mesh.vertices))\n",
    "\n",
    "output_pcd = o3d.geometry.PointCloud()\n",
    "output_pcd.points = o3d.utility.Vector3dVector(np.asarray(mesh.vertices))\n",
    "o3d.visualization.draw_geometries([output_pcd], mesh_show_wireframe=True, mesh_show_back_face=True)\n",
    "\n",
    "with open('../outputs/graphmae_pred', \"rb\") as fp:\n",
    "    preds = pkl.load(fp)\n",
    "fp.close()\n",
    "\n",
    "mesh.vertices = o3d.utility.Vector3dVector(np.asarray(preds))\n",
    "print(np.asarray(mesh.vertices))\n",
    "\n",
    "output_pcd = o3d.geometry.PointCloud()\n",
    "output_pcd.points = o3d.utility.Vector3dVector(np.asarray(mesh.vertices))\n",
    "o3d.visualization.draw_geometries([output_pcd], mesh_show_wireframe=True, mesh_show_back_face=True)"
   ]
  },
  {
   "cell_type": "markdown",
   "metadata": {},
   "source": [
    "# Outputs Visuals"
   ]
  },
  {
   "cell_type": "code",
   "execution_count": null,
   "metadata": {},
   "outputs": [],
   "source": [
    "with open('../../local_data/pred_organs/graphmae/graphmae_pred_6009856_right_kidney_mesh.ply', \"rb\") as fp:\n",
    "    pred = pkl.load(fp)\n",
    "fp.close()\n",
    "\n",
    "mesh = o3d.io.read_point_cloud(\"../../local_data/trimesh_registrations/6009856/right_kidney_mesh.ply\") #6009856\n",
    "o3d.visualization.draw_geometries([mesh], mesh_show_wireframe=True, mesh_show_back_face=True)\n",
    "\n",
    "mesh.points = o3d.utility.Vector3dVector(np.asarray(pred))\n",
    "o3d.visualization.draw_geometries([mesh], mesh_show_wireframe=True, mesh_show_back_face=True)"
   ]
  },
  {
   "cell_type": "markdown",
   "metadata": {},
   "source": [
    "# Anomilies"
   ]
  },
  {
   "cell_type": "code",
   "execution_count": null,
   "metadata": {},
   "outputs": [],
   "source": [
    "mesh = o3d.io.read_triangle_mesh(\"../../local_data/trimesh_registrations/female/1000071/pancreas_mesh.ply\") \n",
    "# o3d.visualization.draw_geometries([mesh], mesh_show_wireframe=True, mesh_show_back_face=True)\n",
    "\n",
    "mesh = o3d.io.read_triangle_mesh(\"../../local_data/trimesh_registrations/anomilies/pancreas/4244472/pancreas_mesh.ply\") \n",
    "o3d.visualization.draw_geometries([mesh], mesh_show_wireframe=True, mesh_show_back_face=True)"
   ]
  },
  {
   "cell_type": "code",
   "execution_count": null,
   "metadata": {},
   "outputs": [
    {
     "name": "stdout",
     "output_type": "stream",
     "text": [
      "[Open3D WARNING] [ViewControl] SetViewPoint() failed because window height and width are not set.\n"
     ]
    }
   ],
   "source": [
    "mesh = o3d.io.read_triangle_mesh(\"../../local_data/trimesh_registrations/female/1000071/spleen_mesh.ply\") \n",
    "# o3d.visualization.draw_geometries([mesh], mesh_show_wireframe=True, mesh_show_back_face=True)\n",
    "\n",
    "mesh = o3d.io.read_triangle_mesh(\"../../local_data/trimesh_registrations/anomilies/spleen/2572248/spleen_mesh.ply\") \n",
    "o3d.visualization.draw_geometries([mesh], mesh_show_wireframe=True, mesh_show_back_face=True)"
   ]
  },
  {
   "cell_type": "code",
   "execution_count": null,
   "metadata": {},
   "outputs": [],
   "source": [
    "mesh = o3d.io.read_triangle_mesh(\"../../local_data/trimesh_registrations/female/1000071/left_kidney_mesh.ply\") \n",
    "# o3d.visualization.draw_geometries([mesh], mesh_show_wireframe=True, mesh_show_back_face=True)\n",
    "\n",
    "mesh = o3d.io.read_triangle_mesh(\"../../local_data/trimesh_registrations/anomilies/left_kidney/4079512/left_kidney_mesh.ply\") \n",
    "o3d.visualization.draw_geometries([mesh], mesh_show_wireframe=True, mesh_show_back_face=True)"
   ]
  },
  {
   "cell_type": "code",
   "execution_count": null,
   "metadata": {},
   "outputs": [],
   "source": [
    "mesh = o3d.io.read_triangle_mesh(\"../../local_data/trimesh_registrations/female/1000071/right_kidney_mesh.ply\") \n",
    "# o3d.visualization.draw_geometries([mesh], mesh_show_wireframe=True, mesh_show_back_face=True)\n",
    "\n",
    "mesh = o3d.io.read_triangle_mesh(\"../../local_data/trimesh_registrations/anomilies/right_kidney/1802206/right_kidney_mesh.ply\") \n",
    "o3d.visualization.draw_geometries([mesh], mesh_show_wireframe=True, mesh_show_back_face=True)"
   ]
  },
  {
   "cell_type": "markdown",
   "metadata": {},
   "source": [
    "# Confusion Matrix Labels"
   ]
  },
  {
   "cell_type": "code",
   "execution_count": 1,
   "metadata": {},
   "outputs": [
    {
     "data": {
      "text/plain": [
       "array(['left_kidney_mesh.ply', 'liver_mesh.ply', 'pancreas_mesh.ply',\n",
       "       'right_kidney_mesh.ply', 'spleen_mesh.ply'], dtype='<U21')"
      ]
     },
     "execution_count": 1,
     "metadata": {},
     "output_type": "execute_result"
    }
   ],
   "source": [
    "from sklearn.utils.multiclass import unique_labels\n",
    "organs = [\"liver_mesh.ply\", \"spleen_mesh.ply\", \"left_kidney_mesh.ply\", \"right_kidney_mesh.ply\", \"pancreas_mesh.ply\"]\n",
    "unique_labels(organs)"
   ]
  },
  {
   "cell_type": "markdown",
   "metadata": {},
   "source": [
    "# Feature Importance"
   ]
  },
  {
   "cell_type": "code",
   "execution_count": 57,
   "metadata": {},
   "outputs": [
    {
     "data": {
      "image/png": "[encoded data removed]",
      "text/plain": [
       "<Figure size 640x480 with 1 Axes>"
      ]
     },
     "metadata": {},
     "output_type": "display_data"
    }
   ],
   "source": [
    "#WRITING\n",
    "with open('../outputs/feature_importances_liver_volume', \"rb\") as fp:\n",
    "    forest_importances = pkl.load(fp)\n",
    "fp.close()\n",
    "#WRITING\n",
    "with open('../outputs/feature_importances_std_liver_volume', \"rb\") as fp:\n",
    "    std = pkl.load(fp)\n",
    "fp.close()\n",
    "\n",
    "fig, ax = plt.subplots()\n",
    "# fig.set_figwidth(25)\n",
    "# fig.set_figheight(20)\n",
    "forest_importances.plot.bar(yerr=std, ax=ax)\n",
    "ax.set_title(\"Feature importances using MDI\")\n",
    "ax.set_ylabel(\"Mean decrease in impurity\")\n",
    "# fig.tight_layout()\n",
    "ax.get_xaxis().set_visible(False)\n",
    "# for i in range(0, len(forest_importances.index), 63):\n",
    "#     plt.axvline(x=i, color='r', linestyle='--', linewidth=0.3)"
   ]
  },
  {
   "cell_type": "code",
   "execution_count": 5,
   "metadata": {},
   "outputs": [
    {
     "data": {
      "image/png": "[encoded data removed]",
      "text/plain": [
       "<Figure size 640x480 with 1 Axes>"
      ]
     },
     "metadata": {},
     "output_type": "display_data"
    }
   ],
   "source": [
    "#WRITING\n",
    "with open('../outputs/feature_importances_right_kidney_volume', \"rb\") as fp:\n",
    "    forest_importances = pkl.load(fp)\n",
    "fp.close()\n",
    "#WRITING\n",
    "with open('../outputs/feature_importances_std_right_kidney_volume', \"rb\") as fp:\n",
    "    std = pkl.load(fp)\n",
    "fp.close()\n",
    "\n",
    "fig2, ax2 = plt.subplots()\n",
    "# fig2.set_figwidth(25)\n",
    "# fig2.set_figheight(20)\n",
    "forest_importances.plot.bar(yerr=std, ax=ax2)\n",
    "ax2.set_title(\"Feature importances using MDI\")\n",
    "ax2.set_ylabel(\"Mean decrease in impurity\")\n",
    "# fig.tight_layout()\n",
    "ax2.get_xaxis().set_visible(False)\n",
    "# for i in range(0, len(forest_importances.index), 63):\n",
    "#     plt.axvline(x=i, color='r', linestyle='--', linewidth=0.3)"
   ]
  },
  {
   "cell_type": "markdown",
   "metadata": {},
   "source": [
    "# Subjects with volumes"
   ]
  },
  {
   "cell_type": "code",
   "execution_count": 42,
   "metadata": {},
   "outputs": [],
   "source": [
    "volume_fields = [\"eid\", \"21080-2.0\", \"21081-2.0\", \"21082-2.0\", \"21083-2.0\", \"21084-2.0\", \"21087-2.0\"]\n",
    "full_ukbb_data = pd.read_csv(\"../../../../../../vol/aimspace/projects/ukbb/668815/ukb668815_imaging.csv\", usecols=volume_fields)\n",
    "new_names = {'21080-2.0':'liver', '21081-2.0':'left_kidney', '21082-2.0':'right_kidney', '21083-2.0':'spleen', '21087-2.0':'pancreas'}\n",
    "full_ukbb_data = full_ukbb_data.rename(index=str, columns=new_names)\n",
    "vertices_path = \"../../../../../../vol/aimspace/users/wyo/latent_spaces/vertices_prediction/liver\"\n",
    "dirs = next(os.walk(vertices_path))[2]"
   ]
  },
  {
   "cell_type": "code",
   "execution_count": 43,
   "metadata": {},
   "outputs": [
    {
     "data": {
      "text/plain": [
       "1175"
      ]
     },
     "execution_count": 43,
     "metadata": {},
     "output_type": "execute_result"
    }
   ],
   "source": [
    "full_ukbb_data.dropna(axis=0)\n",
    "subjects_with_volume = full_ukbb_data.dropna(axis=0)[\"eid\"]\n",
    "np_subjects_with_volume = np.asarray(subjects_with_volume)\n",
    "sum = 0\n",
    "common_subjects = []\n",
    "\n",
    "for subject in np_subjects_with_volume:\n",
    "    if(str(subject) in dirs):\n",
    "        common_subjects.append(subject)\n",
    "        sum = sum + 1\n",
    "\n",
    "sum"
   ]
  },
  {
   "cell_type": "code",
   "execution_count": 44,
   "metadata": {},
   "outputs": [],
   "source": [
    "common_subjects = pd.DataFrame(common_subjects)\n",
    "# common_subjects.to_csv(\"../data/ukbb_vol_dirs.csv\", index = False)"
   ]
  },
  {
   "cell_type": "markdown",
   "metadata": {},
   "source": [
    "# Random forest Baseline"
   ]
  },
  {
   "cell_type": "code",
   "execution_count": 29,
   "metadata": {},
   "outputs": [
    {
     "data": {
      "text/plain": [
       "index      251274.28\n",
       "eid       3512759.45\n",
       "age            64.50\n",
       "sex             0.48\n",
       "bmi            26.63\n",
       "weight         76.36\n",
       "height        169.05\n",
       "dtype: float64"
      ]
     },
     "execution_count": 29,
     "metadata": {},
     "output_type": "execute_result"
    }
   ],
   "source": [
    "basic_features = pd.read_csv(\"../data/basic_features.csv\")\n",
    "basic_features = basic_features.dropna()\n",
    "basic_features = basic_features.reset_index()\n",
    "new_names = {'21003-2.0':'age', '31-0.0':'sex', '21001-2.0':'bmi', '21002-2.0':'weight','50-2.0':'height'}\n",
    "basic_features = basic_features.rename(index=str, columns=new_names)\n",
    "mean_basic_features = basic_features.mean().round(2)\n",
    "mean_basic_features"
   ]
  },
  {
   "cell_type": "code",
   "execution_count": 24,
   "metadata": {},
   "outputs": [
    {
     "data": {
      "text/plain": [
       "{'age': 7.803561311141574,\n",
       " 'height': 9.262172198930589,\n",
       " 'weight': 15.37722249272951,\n",
       " 'bmi': 4.492407631758116}"
      ]
     },
     "execution_count": 24,
     "metadata": {},
     "output_type": "execute_result"
    }
   ],
   "source": [
    "rmse = {\"age\":0, \"height\":0, \"weight\":0, \"bmi\":0}\n",
    "sum = 0\n",
    "for index, row in basic_features.iterrows():\n",
    "    sum = sum + 1\n",
    "    rmse[\"age\"] = rmse[\"age\"] + ((row[\"age\"] - mean_basic_features[\"age\"])**2)\n",
    "    rmse[\"height\"] = rmse[\"height\"] + ((row[\"height\"] - mean_basic_features[\"height\"])**2)\n",
    "    rmse[\"weight\"] = rmse[\"weight\"] + ((row[\"weight\"] - mean_basic_features[\"weight\"])**2)\n",
    "    rmse[\"bmi\"] = rmse[\"bmi\"] + ((row[\"bmi\"] - mean_basic_features[\"bmi\"])**2)\n",
    "\n",
    "\n",
    "rmse[\"age\"] = ((rmse[\"age\"])/sum)**0.5\n",
    "rmse[\"height\"] = ((rmse[\"height\"])/sum)**0.5\n",
    "rmse[\"weight\"] = ((rmse[\"weight\"])/sum)**0.5\n",
    "rmse[\"bmi\"] = ((rmse[\"bmi\"])/sum)**0.5\n",
    "\n",
    "rmse"
   ]
  },
  {
   "cell_type": "code",
   "execution_count": 50,
   "metadata": {},
   "outputs": [
    {
     "data": {
      "text/plain": [
       "index                  inf\n",
       "eid             3499134.45\n",
       "liver                 1.45\n",
       "left_kidney           0.14\n",
       "right_kidney          0.14\n",
       "spleen                0.17\n",
       "21084-2.0             2.58\n",
       "pancreas              0.06\n",
       "dtype: float64"
      ]
     },
     "execution_count": 50,
     "metadata": {},
     "output_type": "execute_result"
    }
   ],
   "source": [
    "full_ukbb_data_no_nan = full_ukbb_data.dropna()\n",
    "full_ukbb_data_no_nan = full_ukbb_data_no_nan.reset_index()\n",
    "new_names = {'21080-2.0':'liver', '21081-2.0':'left_kidney', '21082-2.0':'right_kidney', '21083-2.0':'spleen', '21087-2.0':'pancreas'}\n",
    "full_ukbb_data_no_nan = full_ukbb_data_no_nan.rename(index=str, columns=new_names)\n",
    "full_ukbb_data_mean = full_ukbb_data_no_nan.mean().round(2)\n",
    "full_ukbb_data_mean"
   ]
  },
  {
   "cell_type": "code",
   "execution_count": 51,
   "metadata": {},
   "outputs": [
    {
     "data": {
      "text/plain": [
       "{'liver': 0.00019162575196074425,\n",
       " 'spleen': 0.0,\n",
       " 'pancreas': 0.0,\n",
       " 'left_kidney': 0.0,\n",
       " 'right_kidney': 0.0}"
      ]
     },
     "execution_count": 51,
     "metadata": {},
     "output_type": "execute_result"
    }
   ],
   "source": [
    "rmse = {\"liver\":0, \"spleen\":0, \"pancreas\":0, \"left_kidney\":0, \"right_kidney\":0}\n",
    "sum = 0\n",
    "for index, row in full_ukbb_data_no_nan.iterrows():\n",
    "    sum = sum + 1\n",
    "    rmse[\"liver\"] = rmse[\"liver\"] + ((row[\"liver\"] - full_ukbb_data_mean[\"liver\"])**2)\n",
    "    rmse[\"liver\"] = rmse[\"spleen\"] + ((row[\"spleen\"] - full_ukbb_data_mean[\"spleen\"])**2)\n",
    "    rmse[\"liver\"] = rmse[\"pancreas\"] + ((row[\"pancreas\"] - full_ukbb_data_mean[\"pancreas\"])**2)\n",
    "    rmse[\"liver\"] = rmse[\"left_kidney\"] + ((row[\"left_kidney\"] - full_ukbb_data_mean[\"left_kidney\"])**2)\n",
    "    rmse[\"liver\"] = rmse[\"right_kidney\"] + ((row[\"right_kidney\"] - full_ukbb_data_mean[\"right_kidney\"])**2)\n",
    "\n",
    "\n",
    "rmse[\"liver\"] = ((rmse[\"liver\"])/sum)**0.5\n",
    "rmse[\"spleen\"] = ((rmse[\"spleen\"])/sum)**0.5\n",
    "rmse[\"pancreas\"] = ((rmse[\"pancreas\"])/sum)**0.5\n",
    "rmse[\"left_kidney\"] = ((rmse[\"left_kidney\"])/sum)**0.5\n",
    "rmse[\"right_kidney\"] = ((rmse[\"right_kidney\"])/sum)**0.5\n",
    "\n",
    "rmse"
   ]
  },
  {
   "cell_type": "code",
   "execution_count": 5,
   "metadata": {},
   "outputs": [
    {
     "data": {
      "text/plain": [
       "index      27183.93\n",
       "eid      3517925.11\n",
       "sex            0.48\n",
       "VAT            3.75\n",
       "ASAT           6.97\n",
       "dtype: float64"
      ]
     },
     "execution_count": 5,
     "metadata": {},
     "output_type": "execute_result"
    }
   ],
   "source": [
    "body_fields = [\"eid\", \"22407-2.0\", \"22408-2.0\", \"31-0.0\"]\n",
    "full_ukbb_data = pd.read_csv(\"../../../../../../vol/aimspace/projects/ukbb/668815/ukb668815_imaging.csv\", usecols=body_fields)\n",
    "label = {\"VAT\": \"22407-2.0\", \"ASAT\": \"22408-2.0\", \"sex\": \"31-0.0\"}\n",
    "full_ukbb_data = full_ukbb_data.dropna()\n",
    "full_ukbb_data = full_ukbb_data.reset_index()\n",
    "new_names = {'22407-2.0':'VAT', '31-0.0':'sex', '22408-2.0':'ASAT'}\n",
    "full_ukbb_data = full_ukbb_data.rename(index=str, columns=new_names)\n",
    "mean_full_ukbb_data = full_ukbb_data.mean().round(2)\n",
    "mean_full_ukbb_data"
   ]
  },
  {
   "cell_type": "code",
   "execution_count": 7,
   "metadata": {},
   "outputs": [
    {
     "data": {
      "text/plain": [
       "{'VAT': 2.2628160819113368, 'ASAT': 3.181288828443339}"
      ]
     },
     "execution_count": 7,
     "metadata": {},
     "output_type": "execute_result"
    }
   ],
   "source": [
    "rmse = {\"VAT\":0, \"ASAT\":0}\n",
    "sum = 0\n",
    "for index, row in full_ukbb_data.iterrows():\n",
    "    sum = sum + 1\n",
    "    rmse[\"VAT\"] = rmse[\"VAT\"] + ((row[\"VAT\"] - mean_full_ukbb_data[\"VAT\"])**2)\n",
    "    rmse[\"ASAT\"] = rmse[\"ASAT\"] + ((row[\"ASAT\"] - mean_full_ukbb_data[\"ASAT\"])**2)\n",
    "\n",
    "\n",
    "rmse[\"VAT\"] = ((rmse[\"VAT\"])/sum)**0.5\n",
    "rmse[\"ASAT\"] = ((rmse[\"ASAT\"])/sum)**0.5\n",
    "\n",
    "rmse"
   ]
  },
  {
   "cell_type": "code",
   "execution_count": null,
   "metadata": {},
   "outputs": [],
   "source": []
  }
 ],
 "metadata": {
  "kernelspec": {
   "display_name": "local_digital_twin_env",
   "language": "python",
   "name": "python3"
  },
  "language_info": {
   "codemirror_mode": {
    "name": "ipython",
    "version": 3
   },
   "file_extension": ".py",
   "mimetype": "text/x-python",
   "name": "python",
   "nbconvert_exporter": "python",
   "pygments_lexer": "ipython3",
   "version": "3.8.15"
  },
  "orig_nbformat": 4
 },
 "nbformat": 4,
 "nbformat_minor": 2
}
