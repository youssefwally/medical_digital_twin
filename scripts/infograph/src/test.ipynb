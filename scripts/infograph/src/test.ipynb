{
 "cells": [
  {
   "attachments": {},
   "cell_type": "markdown",
   "metadata": {},
   "source": [
    "# Imports"
   ]
  },
  {
   "cell_type": "code",
   "execution_count": 3,
   "metadata": {},
   "outputs": [
    {
     "name": "stderr",
     "output_type": "stream",
     "text": [
      "INFO - 2023-09-27 17:02:10,141 - utils - Note: NumExpr detected 32 cores but \"NUMEXPR_MAX_THREADS\" not set, so enforcing safe limit of 8.\n",
      "INFO - 2023-09-27 17:02:10,142 - utils - NumExpr defaulting to 8 threads.\n"
     ]
    }
   ],
   "source": [
    "import argparse\n",
    "import random\n",
    "import pickle as pkl\n",
    "\n",
    "import dgl\n",
    "\n",
    "from dataset import *\n",
    "from dgl.data import GINDataset\n",
    "from dgl.dataloading import GraphDataLoader\n",
    "from evaluate_embeddings import evaluate_embedding\n",
    "from model import InfoGraph"
   ]
  },
  {
   "cell_type": "markdown",
   "metadata": {},
   "source": [
    "# Functions"
   ]
  },
  {
   "cell_type": "code",
   "execution_count": 4,
   "metadata": {},
   "outputs": [],
   "source": [
    "def collate(samples):\n",
    "    \"\"\"collate function for building graph dataloader\"\"\"\n",
    "\n",
    "    # graphs, labels = map(list, zip(*samples))\n",
    "\n",
    "    # generate batched graphs and labels\n",
    "    batched_graph = dgl.batch(samples)\n",
    "    # batched_labels = th.tensor(labels)\n",
    "\n",
    "    n_graphs = len(samples)\n",
    "    graph_id = torch.arange(n_graphs)\n",
    "    graph_id = dgl.broadcast_nodes(batched_graph, graph_id)\n",
    "\n",
    "    batched_graph.ndata[\"graph_id\"] = graph_id\n",
    "\n",
    "    return batched_graph"
   ]
  },
  {
   "attachments": {},
   "cell_type": "markdown",
   "metadata": {},
   "source": [
    "# Arguments"
   ]
  },
  {
   "cell_type": "code",
   "execution_count": 5,
   "metadata": {},
   "outputs": [],
   "source": [
    "class args(object):\n",
    "    seed= 42\n",
    "    device= 0\n",
    "    max_epoch=200\n",
    "    warmup_steps=-1\n",
    "\n",
    "    num_heads=1\n",
    "    num_out_heads= 1 \n",
    "    num_layers= 2\n",
    "    num_hidden= 256\n",
    "    residual= False\n",
    "    in_drop= 0.2\n",
    "    attn_drop= 0.1\n",
    "    norm= None\n",
    "    lr= 0.001\n",
    "    weight_decay= 5e-4\n",
    "    negative_slope= 0.2\n",
    "    activation= \"prelu\"\n",
    "    mask_rate= 0.3\n",
    "    drop_edge_rate= 0.0\n",
    "    replace_rate: float = 0.15\n",
    "\n",
    "    encoder= \"gat\"\n",
    "    decoder= \"gat\"\n",
    "    loss_fn= \"sce\"\n",
    "    alpha_l= 2 #pow coefficient for sce loss\n",
    "    optimizer = \"adam\"\n",
    "    \n",
    "    max_epoch_f= 30\n",
    "    lr_f= 0.001\n",
    "    weight_decay_f= 0.0\n",
    "    linear_prob= True\n",
    "    concat_hidden = True\n",
    "    num_features = 0"
   ]
  },
  {
   "cell_type": "code",
   "execution_count": 6,
   "metadata": {},
   "outputs": [],
   "source": [
    "device = torch.device('cpu')\n",
    "seed = args.seed\n",
    "max_epoch = args.max_epoch\n",
    "max_epoch_f = args.max_epoch_f\n",
    "num_hidden = args.num_hidden\n",
    "num_layers = args.num_layers\n",
    "encoder_type = args.encoder\n",
    "decoder_type = args.decoder\n",
    "replace_rate = args.replace_rate\n",
    "\n",
    "optim_type = args.optimizer \n",
    "loss_fn = args.loss_fn\n",
    "\n",
    "lr = args.lr\n",
    "weight_decay = args.weight_decay\n",
    "lr_f = args.lr_f\n",
    "weight_decay_f = args.weight_decay_f\n",
    "linear_prob = args.linear_prob\n",
    "concat_hidden = args.concat_hidden"
   ]
  },
  {
   "cell_type": "code",
   "execution_count": 7,
   "metadata": {},
   "outputs": [],
   "source": [
    "random.seed(42)\n",
    "np.random.seed(42)\n",
    "torch.manual_seed(42)\n",
    "torch.cuda.manual_seed(42)\n",
    "torch.cuda.manual_seed_all(42)\n",
    "torch.backends.cudnn.determinstic = True"
   ]
  },
  {
   "attachments": {},
   "cell_type": "markdown",
   "metadata": {},
   "source": [
    "# Data"
   ]
  },
  {
   "cell_type": "code",
   "execution_count": 8,
   "metadata": {},
   "outputs": [
    {
     "name": "stdout",
     "output_type": "stream",
     "text": [
      "Graph(num_nodes=1150, num_edges=7120,\n",
      "      ndata_schemes={'feat': Scheme(shape=(3,), dtype=torch.float32)}\n",
      "      edata_schemes={})\n"
     ]
    },
    {
     "data": {
      "text/plain": [
       "Graph(num_nodes=1086, num_edges=7064,\n",
       "      ndata_schemes={'feat': Scheme(shape=(3,), dtype=torch.float32)}\n",
       "      edata_schemes={})"
      ]
     },
     "execution_count": 8,
     "metadata": {},
     "output_type": "execute_result"
    }
   ],
   "source": [
    "graphs = []\n",
    "path = \"../../../../../../../vol/aimspace/users/wyo/organ_decimations_ply/2000/1000180/liver_mesh.ply\"\n",
    "mesh = o3d.io.read_triangle_mesh(path)\n",
    "dgl_graph = open3d_to_dgl_graph(path, mesh)\n",
    "dgl_graph = dgl_graph.remove_self_loop()\n",
    "dgl_graph = dgl_graph.add_self_loop()\n",
    "print(dgl_graph)\n",
    "graphs.append(dgl_graph)\n",
    "\n",
    "path = \"../../../../../../../vol/aimspace/users/wyo/organ_decimations_ply/2000/1000071/liver_mesh.ply\"\n",
    "mesh = o3d.io.read_triangle_mesh(path)\n",
    "dgl_graph = open3d_to_dgl_graph(path, mesh)\n",
    "dgl_graph = dgl_graph.remove_self_loop()\n",
    "dgl_graph = dgl_graph.add_self_loop()\n",
    "graphs.append(dgl_graph)\n",
    "\n",
    "path = \"../../../../../../../vol/aimspace/users/wyo/organ_decimations_ply/2000/2901448/liver_mesh.ply\"\n",
    "mesh = o3d.io.read_triangle_mesh(path)\n",
    "dgl_graph = open3d_to_dgl_graph(path, mesh)\n",
    "dgl_graph = dgl_graph.remove_self_loop()\n",
    "dgl_graph = dgl_graph.add_self_loop()\n",
    "graphs.append(dgl_graph)\n",
    "dgl_graph\n",
    "\n",
    "# decoder_g = pre_use_g.clone()\n",
    "# array_zeros = np.zeros((np.asarray(pre_use_g.ndata[\"feat\"]).shape[0], np.asarray(pre_use_g.ndata[\"feat\"]).shape[1]))\n",
    "# decoder_g.ndata['feat'] = torch.tensor(array_zeros, dtype=torch.float32)\n",
    "# dgl_graph.ndata.pop('feat')"
   ]
  },
  {
   "cell_type": "code",
   "execution_count": 12,
   "metadata": {},
   "outputs": [
    {
     "data": {
      "text/plain": [
       "<dgl.dataloading.dataloader.GraphDataLoader at 0x7f8a846d34c0>"
      ]
     },
     "execution_count": 12,
     "metadata": {},
     "output_type": "execute_result"
    }
   ],
   "source": [
    "dataloader = GraphDataLoader(\n",
    "        graphs,\n",
    "        batch_size=3,\n",
    "        collate_fn=collate,\n",
    "        drop_last=False,\n",
    "        shuffle=True,\n",
    "    )\n",
    "dataloader"
   ]
  },
  {
   "cell_type": "code",
   "execution_count": 13,
   "metadata": {},
   "outputs": [
    {
     "name": "stdout",
     "output_type": "stream",
     "text": [
      "tensor([0, 0, 0,  ..., 2, 2, 2])\n"
     ]
    }
   ],
   "source": [
    "for graph in dataloader:\n",
    "            # print(graph)\n",
    "            # print(graph.ndata[\"feat\"])\n",
    "            print(graph.ndata[\"graph_id\"])"
   ]
  },
  {
   "cell_type": "code",
   "execution_count": 13,
   "metadata": {},
   "outputs": [
    {
     "data": {
      "text/plain": [
       "Data(x=[1073, 3], y=[2, 4534], num_nodes=1073, val_pos_edge_index=[2, 106], test_pos_edge_index=[2, 213], train_pos_edge_index=[2, 3622], train_neg_adj_mask=[1073, 1073], val_neg_edge_index=[2, 106], test_neg_edge_index=[2, 213])"
      ]
     },
     "execution_count": 13,
     "metadata": {},
     "output_type": "execute_result"
    }
   ],
   "source": [
    "with open('../../data/gae/liver/data', 'rb') as f:\n",
    "        data = pkl.load(f)\n",
    "data"
   ]
  },
  {
   "cell_type": "code",
   "execution_count": 14,
   "metadata": {},
   "outputs": [
    {
     "data": {
      "text/plain": [
       "3"
      ]
     },
     "execution_count": 14,
     "metadata": {},
     "output_type": "execute_result"
    }
   ],
   "source": [
    "args.num_features = data.x.shape[1]\n",
    "num_classes = data.x.shape[1]\n",
    "scheduler = None\n",
    "logger = None\n",
    "args.num_features"
   ]
  },
  {
   "attachments": {},
   "cell_type": "markdown",
   "metadata": {},
   "source": [
    "# Model"
   ]
  },
  {
   "cell_type": "code",
   "execution_count": null,
   "metadata": {},
   "outputs": [],
   "source": [
    "model = build_model(args)\n",
    "model.to(device)\n",
    "optimizer = create_optimizer(optim_type, model, lr, weight_decay)"
   ]
  },
  {
   "cell_type": "code",
   "execution_count": 157,
   "metadata": {},
   "outputs": [],
   "source": [
    "acc_list = []\n",
    "estp_acc_list = []\n",
    "scheduler = None\n",
    "logger = None"
   ]
  },
  {
   "cell_type": "code",
   "execution_count": 158,
   "metadata": {},
   "outputs": [
    {
     "name": "stderr",
     "output_type": "stream",
     "text": [
      "2023-06-21 15:34:15,204 - INFO - start training..\n",
      "# Epoch 100 | train_loss: 0.0004:  50%|█████     | 101/200 [00:24<00:34,  2.91it/s]"
     ]
    },
    {
     "name": "stdout",
     "output_type": "stream",
     "text": [
      "# IGNORE: --- Best ValAcc: 0.5383 in epoch 2, Early-stopping-TestAcc: 0.5383,  Final-TestAcc: 0.4947--- \n"
     ]
    },
    {
     "name": "stderr",
     "output_type": "stream",
     "text": [
      "# Epoch 199 | train_loss: 0.0005: 100%|██████████| 200/200 [00:49<00:00,  4.08it/s]\n"
     ]
    }
   ],
   "source": [
    "model = pretrain(model, (graphs, graphs, graphs, graphs), optimizer, max_epoch, device, scheduler, num_classes, lr_f, weight_decay_f, max_epoch_f, linear_prob, logger)\n",
    "# model = pretrain(model, (train_dataloader, valid_dataloader, test_dataloader, eval_train_dataloader, data), optimizer, max_epoch, device, scheduler, num_classes, lr_f, weight_decay_f, max_epoch_f, linear_prob, logger)\n",
    "model = model.cpu()\n",
    "\n",
    "# model = model.to(device)\n",
    "# model.eval()"
   ]
  },
  {
   "attachments": {},
   "cell_type": "markdown",
   "metadata": {},
   "source": [
    "# Encoding"
   ]
  },
  {
   "cell_type": "code",
   "execution_count": 2,
   "metadata": {},
   "outputs": [],
   "source": [
    "model = torch.load(\"../../models/liver_mesh.ply_graphmae.pt\", map_location=torch.device('cpu'))\n",
    "\n",
    "\n",
    "# subgraph = \"\"\n",
    "# feat = \"\"\n",
    "\n",
    "# x = model.embed(subgraph, feat)\n",
    "# model = model.to(device)\n",
    "\n",
    "# model.eval()"
   ]
  },
  {
   "cell_type": "markdown",
   "metadata": {},
   "source": [
    "# Pooling Embeddings"
   ]
  },
  {
   "cell_type": "code",
   "execution_count": 1,
   "metadata": {},
   "outputs": [],
   "source": [
    "############################################################################################\n",
    "\n",
    "def triangle_mesh_to_adjacency_matrix(mesh):\n",
    "    # Get the vertices and triangles of the mesh\n",
    "    vertices = np.asarray(mesh.vertices)\n",
    "    triangles = np.asarray(mesh.triangles)\n",
    "\n",
    "    # Create an empty adjacency matrix\n",
    "    n_vertices = len(vertices)\n",
    "    adjacency_matrix = sp.lil_matrix((n_vertices, n_vertices), dtype=np.float32)\n",
    "\n",
    "    # Iterate through the triangles and add edges to the adjacency matrix\n",
    "    for tri in triangles:\n",
    "        adjacency_matrix[tri[0], tri[1]] = 1.0\n",
    "        adjacency_matrix[tri[1], tri[0]] = 1.0\n",
    "        adjacency_matrix[tri[1], tri[2]] = 1.0\n",
    "        adjacency_matrix[tri[2], tri[1]] = 1.0\n",
    "        adjacency_matrix[tri[2], tri[0]] = 1.0\n",
    "        adjacency_matrix[tri[0], tri[2]] = 1.0\n",
    "\n",
    "    # Convert the adjacency matrix to a more efficient sparse matrix representation\n",
    "    adjacency_matrix = adjacency_matrix.tocsr()\n",
    "    \n",
    "    return adjacency_matrix\n",
    "\n",
    "#############################################################################################################\n",
    "\n",
    "def open3d_to_dgl_graph(path, open3d_geometry):\n",
    "    intensity_path = path.replace(\"registered_meshes\",\"organ_decimations_ply\")\n",
    "    intensity_mesh = o3d.io.read_triangle_mesh(intensity_path)\n",
    "    open3d_geometry.compute_vertex_normals()\n",
    "\n",
    "    # Extract points, normals and adjacency information\n",
    "    points = open3d_geometry.vertices\n",
    "    adjacency_matrix = triangle_mesh_to_adjacency_matrix(open3d_geometry)\n",
    "    # Create a DGL graph from the adjacency matrix\n",
    "    dgl_graph = dgl.from_scipy(adjacency_matrix)\n",
    "\n",
    "    # Add node features (e.g., point coordinates) to the DGL graph\n",
    "    points_np = np.array(open3d_geometry.vertices)\n",
    "    normals_np = np.array(open3d_geometry.vertex_normals)\n",
    "    intensities_np = np.array(intensity_mesh.vertex_colors)\n",
    "    # features = np.concatenate((points_np, normals_np, intensities_np), axis=1)\n",
    "    features = points_np\n",
    "    \n",
    "    dgl_graph.ndata['feat'] = torch.tensor(features, dtype=torch.float32)\n",
    "\n",
    "    return dgl_graph\n",
    "\n",
    "#############################################################################################################\n",
    "\n",
    "def get_single_subject(path, organ, subject):\n",
    "\n",
    "    mesh = o3d.io.read_triangle_mesh(f'{path}{subject}/{organ}')\n",
    "    dgl_graph = open3d_to_dgl_graph(f'{path}{subject}/{organ}', mesh)\n",
    "    dgl_graph = dgl_graph.remove_self_loop()\n",
    "    dgl_graph = dgl_graph.add_self_loop()\n",
    "\n",
    "    return dgl_graph\n",
    "\n",
    "############################################################################################"
   ]
  },
  {
   "cell_type": "code",
   "execution_count": 14,
   "metadata": {},
   "outputs": [],
   "source": [
    "import open3d as o3d\n",
    "import numpy as np\n",
    "import pandas as pd\n",
    "import scipy.sparse as sp\n",
    "import dgl\n",
    "import torch\n",
    "dgl_graph = get_single_subject(\"../../../../../../vol/aimspace/users/wyo/registered_meshes/2000/\", \"liver_mesh.ply\", \"1000071\")\n",
    "dgl_graph = dgl_graph\n",
    "model_path = \"../../models/liver_mesh.ply_graphmae_no_feat.pt\"\n",
    "model = torch.load(model_path, map_location=torch.device('cpu'))\n",
    "\n",
    "z = model.embed(dgl_graph, dgl_graph.ndata['feat'], True)\n",
    "\n",
    "rep, pred = model.decode(dgl_graph, z)\n",
    "pred = pred.detach().cpu().numpy()\n",
    "rep = rep.detach().cpu().numpy()\n",
    "\n",
    "z = z.detach().cpu().numpy()"
   ]
  },
  {
   "cell_type": "code",
   "execution_count": 18,
   "metadata": {},
   "outputs": [
    {
     "data": {
      "text/plain": [
       "(1087, 1280)"
      ]
     },
     "execution_count": 18,
     "metadata": {},
     "output_type": "execute_result"
    }
   ],
   "source": [
    "z.shape"
   ]
  },
  {
   "cell_type": "code",
   "execution_count": 17,
   "metadata": {},
   "outputs": [
    {
     "data": {
      "text/plain": [
       "(1087, 256)"
      ]
     },
     "execution_count": 17,
     "metadata": {},
     "output_type": "execute_result"
    }
   ],
   "source": [
    "rep.shape"
   ]
  },
  {
   "cell_type": "code",
   "execution_count": 23,
   "metadata": {},
   "outputs": [
    {
     "data": {
      "text/plain": [
       "(256,)"
      ]
     },
     "execution_count": 23,
     "metadata": {},
     "output_type": "execute_result"
    }
   ],
   "source": [
    "graph_embedding = np.mean(rep, axis=0)\n",
    "graph_embedding.shape"
   ]
  },
  {
   "cell_type": "code",
   "execution_count": 2,
   "metadata": {},
   "outputs": [
    {
     "name": "stderr",
     "output_type": "stream",
     "text": [
      "INFO - 2023-09-26 14:24:28,075 - utils - Note: NumExpr detected 32 cores but \"NUMEXPR_MAX_THREADS\" not set, so enforcing safe limit of 8.\n",
      "INFO - 2023-09-26 14:24:28,076 - utils - NumExpr defaulting to 8 threads.\n"
     ]
    }
   ],
   "source": [
    "import open3d as o3d\n",
    "import numpy as np\n",
    "import pandas as pd\n",
    "import scipy.sparse as sp\n",
    "import dgl\n",
    "import torch\n",
    "dgl_graph = get_single_subject(\"../../../../../../vol/aimspace/users/wyo/registered_meshes/2000/\", \"liver_mesh.ply\", \"1000071\")\n",
    "dgl_graph = dgl_graph\n",
    "model_path = \"../../models/liver_mesh.ply_graphmae_gat_pool_mlp.pt\"\n",
    "model = torch.load(model_path, map_location=torch.device('cpu'))\n",
    "\n",
    "z = model.embed(dgl_graph, dgl_graph.ndata['feat'], False)\n",
    "\n",
    "z = z.detach().cpu().numpy()"
   ]
  },
  {
   "cell_type": "code",
   "execution_count": 12,
   "metadata": {},
   "outputs": [
    {
     "name": "stdout",
     "output_type": "stream",
     "text": [
      "(1, 3000)\n"
     ]
    }
   ],
   "source": [
    "print(z.shape)"
   ]
  },
  {
   "cell_type": "code",
   "execution_count": 16,
   "metadata": {},
   "outputs": [
    {
     "data": {
      "text/plain": [
       "(1, 3000)"
      ]
     },
     "execution_count": 16,
     "metadata": {},
     "output_type": "execute_result"
    }
   ],
   "source": [
    "import pickle as pkl\n",
    "with open(f'../../../../../../vol/aimspace/users/wyo/latent_spaces/vertices_prediction_sort_pool_gmae/liver/1000071', \"rb\") as fp:\n",
    "    x = pkl.load(fp)\n",
    "fp.close()\n",
    "x.shape"
   ]
  },
  {
   "cell_type": "code",
   "execution_count": 7,
   "metadata": {},
   "outputs": [
    {
     "data": {
      "text/plain": [
       "1000.0"
      ]
     },
     "execution_count": 7,
     "metadata": {},
     "output_type": "execute_result"
    }
   ],
   "source": [
    "from dgl.nn import SortPooling\n",
    "sortpool = SortPooling(k=1000)\n",
    "x= sortpool(dgl_graph, dgl_graph.ndata['feat']) \n",
    "x.shape[1]/3"
   ]
  },
  {
   "cell_type": "code",
   "execution_count": 8,
   "metadata": {},
   "outputs": [
    {
     "data": {
      "text/plain": [
       "Graph(num_nodes=1087, num_edges=7067,\n",
       "      ndata_schemes={'feat': Scheme(shape=(3,), dtype=torch.float32)}\n",
       "      edata_schemes={})"
      ]
     },
     "execution_count": 8,
     "metadata": {},
     "output_type": "execute_result"
    }
   ],
   "source": [
    "dgl_graph"
   ]
  },
  {
   "cell_type": "code",
   "execution_count": null,
   "metadata": {},
   "outputs": [],
   "source": []
  }
 ],
 "metadata": {
  "kernelspec": {
   "display_name": "graphmae",
   "language": "python",
   "name": "python3"
  },
  "language_info": {
   "codemirror_mode": {
    "name": "ipython",
    "version": 3
   },
   "file_extension": ".py",
   "mimetype": "text/x-python",
   "name": "python",
   "nbconvert_exporter": "python",
   "pygments_lexer": "ipython3",
   "version": "3.8.15"
  },
  "orig_nbformat": 4
 },
 "nbformat": 4,
 "nbformat_minor": 2
}
