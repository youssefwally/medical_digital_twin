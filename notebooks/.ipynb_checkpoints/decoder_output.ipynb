{
 "cells": [
  {
   "attachments": {},
   "cell_type": "markdown",
   "metadata": {},
   "source": [
    "# Imports"
   ]
  },
  {
   "cell_type": "code",
   "execution_count": 2,
   "metadata": {},
   "outputs": [],
   "source": [
    "import os\n",
    "import pickle\n",
    "import numpy as np\n",
    "\n",
    "import torch\n",
    "from torch_sparse import SparseTensor\n",
    "from sklearn.metrics import roc_auc_score\n",
    "from sklearn.metrics import average_precision_score"
   ]
  },
  {
   "attachments": {},
   "cell_type": "markdown",
   "metadata": {},
   "source": [
    "# Reading files"
   ]
  },
  {
   "cell_type": "code",
   "execution_count": 3,
   "metadata": {},
   "outputs": [
    {
     "name": "stdout",
     "output_type": "stream",
     "text": [
      "(1150, 3)\n",
      "(2, 4150)\n",
      "0\n",
      "651\n",
      "(2, 4559)\n",
      "0\n",
      "651\n"
     ]
    }
   ],
   "source": [
    "with open(\"../../../../../../vol/aimspace/users/wyo/outputs/x\", \"rb\") as fp:\n",
    "        pos = pickle.load(fp)\n",
    "\n",
    "print(np.asarray(pos).shape)\n",
    "\n",
    "with open(\"../../../../../../vol/aimspace/users/wyo/outputs/preds\", \"rb\") as fp:\n",
    "        preds = pickle.load(fp)\n",
    "\n",
    "print(np.asarray(preds).shape)\n",
    "print(preds[0][0])\n",
    "print(preds[1][0])\n",
    "\n",
    "with open(\"../../../../../../vol/aimspace/users/wyo/outputs/labels\", \"rb\") as fp:\n",
    "        labels = pickle.load(fp)\n",
    "\n",
    "print(np.asarray(labels).shape)\n",
    "print(labels[0][0])\n",
    "print(labels[1][0])"
   ]
  },
  {
   "attachments": {},
   "cell_type": "markdown",
   "metadata": {},
   "source": [
    "# Comparing labels and predictions"
   ]
  },
  {
   "cell_type": "code",
   "execution_count": 4,
   "metadata": {},
   "outputs": [
    {
     "name": "stdout",
     "output_type": "stream",
     "text": [
      "False\n",
      "torch.Size([1150, 1150])\n",
      "torch.Size([1150, 1150])\n"
     ]
    }
   ],
   "source": [
    "preds_np = np.asarray(preds)\n",
    "# preds_np = preds_np - 1\n",
    "\n",
    "preds_tensor = torch.from_numpy(preds_np)\n",
    "labels_tensor = torch.from_numpy(labels)\n",
    "\n",
    "preds_adj = SparseTensor(\n",
    "    row=preds_tensor[0],\n",
    "    col=preds_tensor[1],\n",
    "    sparse_sizes=(1150, 1150)\n",
    ").to_dense()\n",
    "\n",
    "all_edge_index_adj = SparseTensor(\n",
    "        row=labels_tensor[0],\n",
    "        col=labels_tensor[1],\n",
    "        sparse_sizes=(1150, 1150)\n",
    "    ).to_dense()\n",
    "\n",
    "print(np.all(np.asarray(all_edge_index_adj) == np.asarray(preds_adj)))\n",
    "print(preds_adj.shape)\n",
    "print(all_edge_index_adj.shape)"
   ]
  },
  {
   "cell_type": "code",
   "execution_count": null,
   "metadata": {},
   "outputs": [],
   "source": []
  }
 ],
 "metadata": {
  "kernelspec": {
   "display_name": "digital_twin",
   "language": "python",
   "name": "python3"
  },
  "language_info": {
   "codemirror_mode": {
    "name": "ipython",
    "version": 3
   },
   "file_extension": ".py",
   "mimetype": "text/x-python",
   "name": "python",
   "nbconvert_exporter": "python",
   "pygments_lexer": "ipython3",
   "version": "3.8.15"
  },
  "orig_nbformat": 4
 },
 "nbformat": 4,
 "nbformat_minor": 2
}
